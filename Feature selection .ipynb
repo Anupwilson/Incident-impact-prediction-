{
 "cells": [
  {
   "cell_type": "code",
   "execution_count": 1,
   "metadata": {
    "ExecuteTime": {
     "end_time": "2021-04-03T05:02:57.619197Z",
     "start_time": "2021-04-03T05:02:47.956087Z"
    }
   },
   "outputs": [],
   "source": [
    "import pandas as pd \n",
    "import numpy as np \n",
    "from matplotlib import pyplot as plt \n",
    "import seaborn as sns \n",
    "%matplotlib inline"
   ]
  },
  {
   "cell_type": "code",
   "execution_count": 2,
   "metadata": {
    "ExecuteTime": {
     "end_time": "2021-04-03T05:03:49.293393Z",
     "start_time": "2021-04-03T05:03:48.719843Z"
    }
   },
   "outputs": [],
   "source": [
    "df = pd.read_csv(\"incident.csv\")"
   ]
  },
  {
   "cell_type": "code",
   "execution_count": 3,
   "metadata": {
    "ExecuteTime": {
     "end_time": "2021-04-03T05:03:56.200581Z",
     "start_time": "2021-04-03T05:03:56.099907Z"
    }
   },
   "outputs": [
    {
     "data": {
      "text/html": [
       "<div>\n",
       "<style scoped>\n",
       "    .dataframe tbody tr th:only-of-type {\n",
       "        vertical-align: middle;\n",
       "    }\n",
       "\n",
       "    .dataframe tbody tr th {\n",
       "        vertical-align: top;\n",
       "    }\n",
       "\n",
       "    .dataframe thead th {\n",
       "        text-align: right;\n",
       "    }\n",
       "</style>\n",
       "<table border=\"1\" class=\"dataframe\">\n",
       "  <thead>\n",
       "    <tr style=\"text-align: right;\">\n",
       "      <th></th>\n",
       "      <th>Unnamed: 0</th>\n",
       "      <th>incidentstate</th>\n",
       "      <th>active</th>\n",
       "      <th>reassignmentcount</th>\n",
       "      <th>reopencount</th>\n",
       "      <th>sysmodcount</th>\n",
       "      <th>contacttype</th>\n",
       "      <th>knowledge</th>\n",
       "      <th>upriorityconfirmation</th>\n",
       "      <th>caller_id</th>\n",
       "      <th>...</th>\n",
       "      <th>opened_at_day</th>\n",
       "      <th>opened_at_month</th>\n",
       "      <th>opened_at_year</th>\n",
       "      <th>opened_at_hr</th>\n",
       "      <th>opened_at_minute</th>\n",
       "      <th>created_at_day</th>\n",
       "      <th>created_at_month</th>\n",
       "      <th>created_at_year</th>\n",
       "      <th>created_at_hr</th>\n",
       "      <th>created_at_minute</th>\n",
       "    </tr>\n",
       "  </thead>\n",
       "  <tbody>\n",
       "    <tr>\n",
       "      <th>0</th>\n",
       "      <td>4</td>\n",
       "      <td>7</td>\n",
       "      <td>1</td>\n",
       "      <td>0</td>\n",
       "      <td>0</td>\n",
       "      <td>0</td>\n",
       "      <td>3</td>\n",
       "      <td>1</td>\n",
       "      <td>0</td>\n",
       "      <td>2403</td>\n",
       "      <td>...</td>\n",
       "      <td>29</td>\n",
       "      <td>2</td>\n",
       "      <td>2016</td>\n",
       "      <td>4</td>\n",
       "      <td>40</td>\n",
       "      <td>29</td>\n",
       "      <td>2</td>\n",
       "      <td>2016</td>\n",
       "      <td>4</td>\n",
       "      <td>57</td>\n",
       "    </tr>\n",
       "    <tr>\n",
       "      <th>1</th>\n",
       "      <td>5</td>\n",
       "      <td>1</td>\n",
       "      <td>1</td>\n",
       "      <td>1</td>\n",
       "      <td>0</td>\n",
       "      <td>1</td>\n",
       "      <td>3</td>\n",
       "      <td>1</td>\n",
       "      <td>0</td>\n",
       "      <td>2403</td>\n",
       "      <td>...</td>\n",
       "      <td>29</td>\n",
       "      <td>2</td>\n",
       "      <td>2016</td>\n",
       "      <td>4</td>\n",
       "      <td>40</td>\n",
       "      <td>29</td>\n",
       "      <td>2</td>\n",
       "      <td>2016</td>\n",
       "      <td>4</td>\n",
       "      <td>57</td>\n",
       "    </tr>\n",
       "    <tr>\n",
       "      <th>2</th>\n",
       "      <td>6</td>\n",
       "      <td>1</td>\n",
       "      <td>1</td>\n",
       "      <td>1</td>\n",
       "      <td>0</td>\n",
       "      <td>2</td>\n",
       "      <td>3</td>\n",
       "      <td>1</td>\n",
       "      <td>0</td>\n",
       "      <td>2403</td>\n",
       "      <td>...</td>\n",
       "      <td>29</td>\n",
       "      <td>2</td>\n",
       "      <td>2016</td>\n",
       "      <td>4</td>\n",
       "      <td>40</td>\n",
       "      <td>29</td>\n",
       "      <td>2</td>\n",
       "      <td>2016</td>\n",
       "      <td>4</td>\n",
       "      <td>57</td>\n",
       "    </tr>\n",
       "    <tr>\n",
       "      <th>3</th>\n",
       "      <td>7</td>\n",
       "      <td>1</td>\n",
       "      <td>1</td>\n",
       "      <td>1</td>\n",
       "      <td>0</td>\n",
       "      <td>3</td>\n",
       "      <td>3</td>\n",
       "      <td>1</td>\n",
       "      <td>0</td>\n",
       "      <td>2403</td>\n",
       "      <td>...</td>\n",
       "      <td>29</td>\n",
       "      <td>2</td>\n",
       "      <td>2016</td>\n",
       "      <td>4</td>\n",
       "      <td>40</td>\n",
       "      <td>29</td>\n",
       "      <td>2</td>\n",
       "      <td>2016</td>\n",
       "      <td>4</td>\n",
       "      <td>57</td>\n",
       "    </tr>\n",
       "    <tr>\n",
       "      <th>4</th>\n",
       "      <td>8</td>\n",
       "      <td>1</td>\n",
       "      <td>1</td>\n",
       "      <td>1</td>\n",
       "      <td>0</td>\n",
       "      <td>4</td>\n",
       "      <td>3</td>\n",
       "      <td>1</td>\n",
       "      <td>0</td>\n",
       "      <td>2403</td>\n",
       "      <td>...</td>\n",
       "      <td>29</td>\n",
       "      <td>2</td>\n",
       "      <td>2016</td>\n",
       "      <td>4</td>\n",
       "      <td>40</td>\n",
       "      <td>29</td>\n",
       "      <td>2</td>\n",
       "      <td>2016</td>\n",
       "      <td>4</td>\n",
       "      <td>57</td>\n",
       "    </tr>\n",
       "  </tbody>\n",
       "</table>\n",
       "<p>5 rows × 36 columns</p>\n",
       "</div>"
      ],
      "text/plain": [
       "   Unnamed: 0  incidentstate  active  reassignmentcount  reopencount  \\\n",
       "0           4              7       1                  0            0   \n",
       "1           5              1       1                  1            0   \n",
       "2           6              1       1                  1            0   \n",
       "3           7              1       1                  1            0   \n",
       "4           8              1       1                  1            0   \n",
       "\n",
       "   sysmodcount  contacttype  knowledge  upriorityconfirmation  caller_id  ...  \\\n",
       "0            0            3          1                      0       2403  ...   \n",
       "1            1            3          1                      0       2403  ...   \n",
       "2            2            3          1                      0       2403  ...   \n",
       "3            3            3          1                      0       2403  ...   \n",
       "4            4            3          1                      0       2403  ...   \n",
       "\n",
       "   opened_at_day  opened_at_month  opened_at_year  opened_at_hr  \\\n",
       "0             29                2            2016             4   \n",
       "1             29                2            2016             4   \n",
       "2             29                2            2016             4   \n",
       "3             29                2            2016             4   \n",
       "4             29                2            2016             4   \n",
       "\n",
       "   opened_at_minute  created_at_day  created_at_month  created_at_year  \\\n",
       "0                40              29                 2             2016   \n",
       "1                40              29                 2             2016   \n",
       "2                40              29                 2             2016   \n",
       "3                40              29                 2             2016   \n",
       "4                40              29                 2             2016   \n",
       "\n",
       "   created_at_hr  created_at_minute  \n",
       "0              4                 57  \n",
       "1              4                 57  \n",
       "2              4                 57  \n",
       "3              4                 57  \n",
       "4              4                 57  \n",
       "\n",
       "[5 rows x 36 columns]"
      ]
     },
     "execution_count": 3,
     "metadata": {},
     "output_type": "execute_result"
    }
   ],
   "source": [
    "df.head()"
   ]
  },
  {
   "cell_type": "markdown",
   "metadata": {},
   "source": [
    "spliting of data into x and y variable "
   ]
  },
  {
   "cell_type": "code",
   "execution_count": 17,
   "metadata": {
    "ExecuteTime": {
     "end_time": "2021-04-03T05:13:58.845541Z",
     "start_time": "2021-04-03T05:13:58.810500Z"
    }
   },
   "outputs": [],
   "source": [
    "df.drop(['Unnamed: 0'],axis=1,inplace=True)"
   ]
  },
  {
   "cell_type": "code",
   "execution_count": 18,
   "metadata": {
    "ExecuteTime": {
     "end_time": "2021-04-03T05:14:06.968336Z",
     "start_time": "2021-04-03T05:14:06.938628Z"
    }
   },
   "outputs": [
    {
     "data": {
      "text/html": [
       "<div>\n",
       "<style scoped>\n",
       "    .dataframe tbody tr th:only-of-type {\n",
       "        vertical-align: middle;\n",
       "    }\n",
       "\n",
       "    .dataframe tbody tr th {\n",
       "        vertical-align: top;\n",
       "    }\n",
       "\n",
       "    .dataframe thead th {\n",
       "        text-align: right;\n",
       "    }\n",
       "</style>\n",
       "<table border=\"1\" class=\"dataframe\">\n",
       "  <thead>\n",
       "    <tr style=\"text-align: right;\">\n",
       "      <th></th>\n",
       "      <th>incidentstate</th>\n",
       "      <th>active</th>\n",
       "      <th>reassignmentcount</th>\n",
       "      <th>reopencount</th>\n",
       "      <th>sysmodcount</th>\n",
       "      <th>contacttype</th>\n",
       "      <th>knowledge</th>\n",
       "      <th>upriorityconfirmation</th>\n",
       "      <th>caller_id</th>\n",
       "      <th>open_by</th>\n",
       "      <th>...</th>\n",
       "      <th>opened_at_day</th>\n",
       "      <th>opened_at_month</th>\n",
       "      <th>opened_at_year</th>\n",
       "      <th>opened_at_hr</th>\n",
       "      <th>opened_at_minute</th>\n",
       "      <th>created_at_day</th>\n",
       "      <th>created_at_month</th>\n",
       "      <th>created_at_year</th>\n",
       "      <th>created_at_hr</th>\n",
       "      <th>created_at_minute</th>\n",
       "    </tr>\n",
       "  </thead>\n",
       "  <tbody>\n",
       "    <tr>\n",
       "      <th>0</th>\n",
       "      <td>7</td>\n",
       "      <td>1</td>\n",
       "      <td>0</td>\n",
       "      <td>0</td>\n",
       "      <td>0</td>\n",
       "      <td>3</td>\n",
       "      <td>1</td>\n",
       "      <td>0</td>\n",
       "      <td>2403</td>\n",
       "      <td>397</td>\n",
       "      <td>...</td>\n",
       "      <td>29</td>\n",
       "      <td>2</td>\n",
       "      <td>2016</td>\n",
       "      <td>4</td>\n",
       "      <td>40</td>\n",
       "      <td>29</td>\n",
       "      <td>2</td>\n",
       "      <td>2016</td>\n",
       "      <td>4</td>\n",
       "      <td>57</td>\n",
       "    </tr>\n",
       "    <tr>\n",
       "      <th>1</th>\n",
       "      <td>1</td>\n",
       "      <td>1</td>\n",
       "      <td>1</td>\n",
       "      <td>0</td>\n",
       "      <td>1</td>\n",
       "      <td>3</td>\n",
       "      <td>1</td>\n",
       "      <td>0</td>\n",
       "      <td>2403</td>\n",
       "      <td>397</td>\n",
       "      <td>...</td>\n",
       "      <td>29</td>\n",
       "      <td>2</td>\n",
       "      <td>2016</td>\n",
       "      <td>4</td>\n",
       "      <td>40</td>\n",
       "      <td>29</td>\n",
       "      <td>2</td>\n",
       "      <td>2016</td>\n",
       "      <td>4</td>\n",
       "      <td>57</td>\n",
       "    </tr>\n",
       "    <tr>\n",
       "      <th>2</th>\n",
       "      <td>1</td>\n",
       "      <td>1</td>\n",
       "      <td>1</td>\n",
       "      <td>0</td>\n",
       "      <td>2</td>\n",
       "      <td>3</td>\n",
       "      <td>1</td>\n",
       "      <td>0</td>\n",
       "      <td>2403</td>\n",
       "      <td>397</td>\n",
       "      <td>...</td>\n",
       "      <td>29</td>\n",
       "      <td>2</td>\n",
       "      <td>2016</td>\n",
       "      <td>4</td>\n",
       "      <td>40</td>\n",
       "      <td>29</td>\n",
       "      <td>2</td>\n",
       "      <td>2016</td>\n",
       "      <td>4</td>\n",
       "      <td>57</td>\n",
       "    </tr>\n",
       "    <tr>\n",
       "      <th>3</th>\n",
       "      <td>1</td>\n",
       "      <td>1</td>\n",
       "      <td>1</td>\n",
       "      <td>0</td>\n",
       "      <td>3</td>\n",
       "      <td>3</td>\n",
       "      <td>1</td>\n",
       "      <td>0</td>\n",
       "      <td>2403</td>\n",
       "      <td>397</td>\n",
       "      <td>...</td>\n",
       "      <td>29</td>\n",
       "      <td>2</td>\n",
       "      <td>2016</td>\n",
       "      <td>4</td>\n",
       "      <td>40</td>\n",
       "      <td>29</td>\n",
       "      <td>2</td>\n",
       "      <td>2016</td>\n",
       "      <td>4</td>\n",
       "      <td>57</td>\n",
       "    </tr>\n",
       "    <tr>\n",
       "      <th>4</th>\n",
       "      <td>1</td>\n",
       "      <td>1</td>\n",
       "      <td>1</td>\n",
       "      <td>0</td>\n",
       "      <td>4</td>\n",
       "      <td>3</td>\n",
       "      <td>1</td>\n",
       "      <td>0</td>\n",
       "      <td>2403</td>\n",
       "      <td>397</td>\n",
       "      <td>...</td>\n",
       "      <td>29</td>\n",
       "      <td>2</td>\n",
       "      <td>2016</td>\n",
       "      <td>4</td>\n",
       "      <td>40</td>\n",
       "      <td>29</td>\n",
       "      <td>2</td>\n",
       "      <td>2016</td>\n",
       "      <td>4</td>\n",
       "      <td>57</td>\n",
       "    </tr>\n",
       "  </tbody>\n",
       "</table>\n",
       "<p>5 rows × 35 columns</p>\n",
       "</div>"
      ],
      "text/plain": [
       "   incidentstate  active  reassignmentcount  reopencount  sysmodcount  \\\n",
       "0              7       1                  0            0            0   \n",
       "1              1       1                  1            0            1   \n",
       "2              1       1                  1            0            2   \n",
       "3              1       1                  1            0            3   \n",
       "4              1       1                  1            0            4   \n",
       "\n",
       "   contacttype  knowledge  upriorityconfirmation  caller_id  open_by  ...  \\\n",
       "0            3          1                      0       2403      397  ...   \n",
       "1            3          1                      0       2403      397  ...   \n",
       "2            3          1                      0       2403      397  ...   \n",
       "3            3          1                      0       2403      397  ...   \n",
       "4            3          1                      0       2403      397  ...   \n",
       "\n",
       "   opened_at_day  opened_at_month  opened_at_year  opened_at_hr  \\\n",
       "0             29                2            2016             4   \n",
       "1             29                2            2016             4   \n",
       "2             29                2            2016             4   \n",
       "3             29                2            2016             4   \n",
       "4             29                2            2016             4   \n",
       "\n",
       "   opened_at_minute  created_at_day  created_at_month  created_at_year  \\\n",
       "0                40              29                 2             2016   \n",
       "1                40              29                 2             2016   \n",
       "2                40              29                 2             2016   \n",
       "3                40              29                 2             2016   \n",
       "4                40              29                 2             2016   \n",
       "\n",
       "   created_at_hr  created_at_minute  \n",
       "0              4                 57  \n",
       "1              4                 57  \n",
       "2              4                 57  \n",
       "3              4                 57  \n",
       "4              4                 57  \n",
       "\n",
       "[5 rows x 35 columns]"
      ]
     },
     "execution_count": 18,
     "metadata": {},
     "output_type": "execute_result"
    }
   ],
   "source": [
    "df.head()"
   ]
  },
  {
   "cell_type": "code",
   "execution_count": 19,
   "metadata": {
    "ExecuteTime": {
     "end_time": "2021-04-03T05:14:10.322119Z",
     "start_time": "2021-04-03T05:14:10.297556Z"
    }
   },
   "outputs": [],
   "source": [
    "X=df.drop(\"i_impact\",axis=1)"
   ]
  },
  {
   "cell_type": "code",
   "execution_count": 20,
   "metadata": {
    "ExecuteTime": {
     "end_time": "2021-04-03T05:14:12.089944Z",
     "start_time": "2021-04-03T05:14:12.057062Z"
    }
   },
   "outputs": [
    {
     "data": {
      "text/html": [
       "<div>\n",
       "<style scoped>\n",
       "    .dataframe tbody tr th:only-of-type {\n",
       "        vertical-align: middle;\n",
       "    }\n",
       "\n",
       "    .dataframe tbody tr th {\n",
       "        vertical-align: top;\n",
       "    }\n",
       "\n",
       "    .dataframe thead th {\n",
       "        text-align: right;\n",
       "    }\n",
       "</style>\n",
       "<table border=\"1\" class=\"dataframe\">\n",
       "  <thead>\n",
       "    <tr style=\"text-align: right;\">\n",
       "      <th></th>\n",
       "      <th>incidentstate</th>\n",
       "      <th>active</th>\n",
       "      <th>reassignmentcount</th>\n",
       "      <th>reopencount</th>\n",
       "      <th>sysmodcount</th>\n",
       "      <th>contacttype</th>\n",
       "      <th>knowledge</th>\n",
       "      <th>upriorityconfirmation</th>\n",
       "      <th>caller_id</th>\n",
       "      <th>open_by</th>\n",
       "      <th>...</th>\n",
       "      <th>opened_at_day</th>\n",
       "      <th>opened_at_month</th>\n",
       "      <th>opened_at_year</th>\n",
       "      <th>opened_at_hr</th>\n",
       "      <th>opened_at_minute</th>\n",
       "      <th>created_at_day</th>\n",
       "      <th>created_at_month</th>\n",
       "      <th>created_at_year</th>\n",
       "      <th>created_at_hr</th>\n",
       "      <th>created_at_minute</th>\n",
       "    </tr>\n",
       "  </thead>\n",
       "  <tbody>\n",
       "    <tr>\n",
       "      <th>0</th>\n",
       "      <td>7</td>\n",
       "      <td>1</td>\n",
       "      <td>0</td>\n",
       "      <td>0</td>\n",
       "      <td>0</td>\n",
       "      <td>3</td>\n",
       "      <td>1</td>\n",
       "      <td>0</td>\n",
       "      <td>2403</td>\n",
       "      <td>397</td>\n",
       "      <td>...</td>\n",
       "      <td>29</td>\n",
       "      <td>2</td>\n",
       "      <td>2016</td>\n",
       "      <td>4</td>\n",
       "      <td>40</td>\n",
       "      <td>29</td>\n",
       "      <td>2</td>\n",
       "      <td>2016</td>\n",
       "      <td>4</td>\n",
       "      <td>57</td>\n",
       "    </tr>\n",
       "    <tr>\n",
       "      <th>1</th>\n",
       "      <td>1</td>\n",
       "      <td>1</td>\n",
       "      <td>1</td>\n",
       "      <td>0</td>\n",
       "      <td>1</td>\n",
       "      <td>3</td>\n",
       "      <td>1</td>\n",
       "      <td>0</td>\n",
       "      <td>2403</td>\n",
       "      <td>397</td>\n",
       "      <td>...</td>\n",
       "      <td>29</td>\n",
       "      <td>2</td>\n",
       "      <td>2016</td>\n",
       "      <td>4</td>\n",
       "      <td>40</td>\n",
       "      <td>29</td>\n",
       "      <td>2</td>\n",
       "      <td>2016</td>\n",
       "      <td>4</td>\n",
       "      <td>57</td>\n",
       "    </tr>\n",
       "    <tr>\n",
       "      <th>2</th>\n",
       "      <td>1</td>\n",
       "      <td>1</td>\n",
       "      <td>1</td>\n",
       "      <td>0</td>\n",
       "      <td>2</td>\n",
       "      <td>3</td>\n",
       "      <td>1</td>\n",
       "      <td>0</td>\n",
       "      <td>2403</td>\n",
       "      <td>397</td>\n",
       "      <td>...</td>\n",
       "      <td>29</td>\n",
       "      <td>2</td>\n",
       "      <td>2016</td>\n",
       "      <td>4</td>\n",
       "      <td>40</td>\n",
       "      <td>29</td>\n",
       "      <td>2</td>\n",
       "      <td>2016</td>\n",
       "      <td>4</td>\n",
       "      <td>57</td>\n",
       "    </tr>\n",
       "    <tr>\n",
       "      <th>3</th>\n",
       "      <td>1</td>\n",
       "      <td>1</td>\n",
       "      <td>1</td>\n",
       "      <td>0</td>\n",
       "      <td>3</td>\n",
       "      <td>3</td>\n",
       "      <td>1</td>\n",
       "      <td>0</td>\n",
       "      <td>2403</td>\n",
       "      <td>397</td>\n",
       "      <td>...</td>\n",
       "      <td>29</td>\n",
       "      <td>2</td>\n",
       "      <td>2016</td>\n",
       "      <td>4</td>\n",
       "      <td>40</td>\n",
       "      <td>29</td>\n",
       "      <td>2</td>\n",
       "      <td>2016</td>\n",
       "      <td>4</td>\n",
       "      <td>57</td>\n",
       "    </tr>\n",
       "    <tr>\n",
       "      <th>4</th>\n",
       "      <td>1</td>\n",
       "      <td>1</td>\n",
       "      <td>1</td>\n",
       "      <td>0</td>\n",
       "      <td>4</td>\n",
       "      <td>3</td>\n",
       "      <td>1</td>\n",
       "      <td>0</td>\n",
       "      <td>2403</td>\n",
       "      <td>397</td>\n",
       "      <td>...</td>\n",
       "      <td>29</td>\n",
       "      <td>2</td>\n",
       "      <td>2016</td>\n",
       "      <td>4</td>\n",
       "      <td>40</td>\n",
       "      <td>29</td>\n",
       "      <td>2</td>\n",
       "      <td>2016</td>\n",
       "      <td>4</td>\n",
       "      <td>57</td>\n",
       "    </tr>\n",
       "  </tbody>\n",
       "</table>\n",
       "<p>5 rows × 34 columns</p>\n",
       "</div>"
      ],
      "text/plain": [
       "   incidentstate  active  reassignmentcount  reopencount  sysmodcount  \\\n",
       "0              7       1                  0            0            0   \n",
       "1              1       1                  1            0            1   \n",
       "2              1       1                  1            0            2   \n",
       "3              1       1                  1            0            3   \n",
       "4              1       1                  1            0            4   \n",
       "\n",
       "   contacttype  knowledge  upriorityconfirmation  caller_id  open_by  ...  \\\n",
       "0            3          1                      0       2403      397  ...   \n",
       "1            3          1                      0       2403      397  ...   \n",
       "2            3          1                      0       2403      397  ...   \n",
       "3            3          1                      0       2403      397  ...   \n",
       "4            3          1                      0       2403      397  ...   \n",
       "\n",
       "   opened_at_day  opened_at_month  opened_at_year  opened_at_hr  \\\n",
       "0             29                2            2016             4   \n",
       "1             29                2            2016             4   \n",
       "2             29                2            2016             4   \n",
       "3             29                2            2016             4   \n",
       "4             29                2            2016             4   \n",
       "\n",
       "   opened_at_minute  created_at_day  created_at_month  created_at_year  \\\n",
       "0                40              29                 2             2016   \n",
       "1                40              29                 2             2016   \n",
       "2                40              29                 2             2016   \n",
       "3                40              29                 2             2016   \n",
       "4                40              29                 2             2016   \n",
       "\n",
       "   created_at_hr  created_at_minute  \n",
       "0              4                 57  \n",
       "1              4                 57  \n",
       "2              4                 57  \n",
       "3              4                 57  \n",
       "4              4                 57  \n",
       "\n",
       "[5 rows x 34 columns]"
      ]
     },
     "execution_count": 20,
     "metadata": {},
     "output_type": "execute_result"
    }
   ],
   "source": [
    "X.head()"
   ]
  },
  {
   "cell_type": "code",
   "execution_count": 21,
   "metadata": {
    "ExecuteTime": {
     "end_time": "2021-04-03T05:14:14.212310Z",
     "start_time": "2021-04-03T05:14:14.199147Z"
    }
   },
   "outputs": [],
   "source": [
    "Y = df['i_impact']"
   ]
  },
  {
   "cell_type": "code",
   "execution_count": 22,
   "metadata": {
    "ExecuteTime": {
     "end_time": "2021-04-03T05:14:15.756810Z",
     "start_time": "2021-04-03T05:14:15.733188Z"
    }
   },
   "outputs": [
    {
     "data": {
      "text/plain": [
       "0    2\n",
       "1    2\n",
       "2    2\n",
       "3    2\n",
       "4    2\n",
       "Name: i_impact, dtype: int64"
      ]
     },
     "execution_count": 22,
     "metadata": {},
     "output_type": "execute_result"
    }
   ],
   "source": [
    "Y.head()"
   ]
  },
  {
   "cell_type": "markdown",
   "metadata": {},
   "source": [
    "# Train and Test split "
   ]
  },
  {
   "cell_type": "code",
   "execution_count": 23,
   "metadata": {
    "ExecuteTime": {
     "end_time": "2021-04-03T05:14:18.124030Z",
     "start_time": "2021-04-03T05:14:18.104812Z"
    }
   },
   "outputs": [],
   "source": [
    "from sklearn.model_selection import train_test_split"
   ]
  },
  {
   "cell_type": "code",
   "execution_count": 24,
   "metadata": {
    "ExecuteTime": {
     "end_time": "2021-04-03T05:14:19.759078Z",
     "start_time": "2021-04-03T05:14:19.625790Z"
    }
   },
   "outputs": [],
   "source": [
    "X_train, X_test, y_train, y_test = train_test_split(X, Y, test_size=0.3,random_state=10)"
   ]
  },
  {
   "cell_type": "markdown",
   "metadata": {},
   "source": [
    "# Balancing of the data \n",
    "using smote to balance tha data "
   ]
  },
  {
   "cell_type": "code",
   "execution_count": 25,
   "metadata": {
    "ExecuteTime": {
     "end_time": "2021-04-03T05:14:22.899018Z",
     "start_time": "2021-04-03T05:14:22.886659Z"
    }
   },
   "outputs": [],
   "source": [
    "from imblearn.over_sampling import SMOTE"
   ]
  },
  {
   "cell_type": "code",
   "execution_count": 26,
   "metadata": {
    "ExecuteTime": {
     "end_time": "2021-04-03T05:14:24.434625Z",
     "start_time": "2021-04-03T05:14:24.422162Z"
    }
   },
   "outputs": [],
   "source": [
    "smote = SMOTE()"
   ]
  },
  {
   "cell_type": "code",
   "execution_count": 27,
   "metadata": {
    "ExecuteTime": {
     "end_time": "2021-04-03T05:14:27.258473Z",
     "start_time": "2021-04-03T05:14:25.897674Z"
    }
   },
   "outputs": [],
   "source": [
    "X_train_smote, y_train_smote = smote.fit_resample(X_train.astype('float'), y_train)"
   ]
  },
  {
   "cell_type": "code",
   "execution_count": 28,
   "metadata": {
    "ExecuteTime": {
     "end_time": "2021-04-03T05:14:27.742588Z",
     "start_time": "2021-04-03T05:14:27.621534Z"
    }
   },
   "outputs": [
    {
     "name": "stdout",
     "output_type": "stream",
     "text": [
      "Before SMOTE : Counter({2: 94155, 3: 2647, 1: 2393})\n",
      "After SMOTE : Counter({2: 94155, 1: 94155, 3: 94155})\n"
     ]
    }
   ],
   "source": [
    "from collections import Counter\n",
    "print(\"Before SMOTE :\",Counter(y_train))\n",
    "print(\"After SMOTE :\",Counter(y_train_smote))"
   ]
  },
  {
   "cell_type": "markdown",
   "metadata": {},
   "source": [
    "# Feature selection "
   ]
  },
  {
   "cell_type": "markdown",
   "metadata": {},
   "source": [
    " #### Feature Importance using Extra Trees Classifier"
   ]
  },
  {
   "cell_type": "code",
   "execution_count": 29,
   "metadata": {
    "ExecuteTime": {
     "end_time": "2021-04-03T05:15:59.808108Z",
     "start_time": "2021-04-03T05:14:34.031781Z"
    }
   },
   "outputs": [
    {
     "data": {
      "text/plain": [
       "ExtraTreesClassifier()"
      ]
     },
     "execution_count": 29,
     "metadata": {},
     "output_type": "execute_result"
    }
   ],
   "source": [
    "from sklearn.ensemble import ExtraTreesClassifier\n",
    "import matplotlib.pyplot as plt\n",
    "model = ExtraTreesClassifier()\n",
    "model.fit(X_train_smote,y_train_smote)"
   ]
  },
  {
   "cell_type": "code",
   "execution_count": 30,
   "metadata": {
    "ExecuteTime": {
     "end_time": "2021-04-03T05:16:02.098150Z",
     "start_time": "2021-04-03T05:16:01.972845Z"
    }
   },
   "outputs": [
    {
     "data": {
      "text/plain": [
       "array([0.0344628 , 0.01687982, 0.02274045, 0.0029767 , 0.02237602,\n",
       "       0.00131027, 0.04309893, 0.04461472, 0.04041696, 0.09499272,\n",
       "       0.04921895, 0.02800658, 0.0346275 , 0.0345894 , 0.0289728 ,\n",
       "       0.04246739, 0.03837528, 0.0478208 , 0.03852068, 0.02150441,\n",
       "       0.01980094, 0.00169532, 0.02247739, 0.01571059, 0.02583002,\n",
       "       0.02945007, 0.00141418, 0.0457855 , 0.02588267, 0.02617038,\n",
       "       0.02835268, 0.00132749, 0.04138627, 0.02674335])"
      ]
     },
     "execution_count": 30,
     "metadata": {},
     "output_type": "execute_result"
    }
   ],
   "source": [
    "model.feature_importances_"
   ]
  },
  {
   "cell_type": "code",
   "execution_count": 31,
   "metadata": {
    "ExecuteTime": {
     "end_time": "2021-04-03T05:16:04.414115Z",
     "start_time": "2021-04-03T05:16:04.083186Z"
    }
   },
   "outputs": [
    {
     "data": {
      "image/png": "[encoded data removed]",
      "text/plain": [
       "<Figure size 432x288 with 1 Axes>"
      ]
     },
     "metadata": {
      "needs_background": "light"
     },
     "output_type": "display_data"
    }
   ],
   "source": [
    "ranked_features=pd.Series(model.feature_importances_,index=X_train.columns)\n",
    "ranked_features.nlargest(5).plot(kind='barh')\n",
    "plt.show()"
   ]
  },
  {
   "cell_type": "markdown",
   "metadata": {},
   "source": [
    " #### Feature Selection using Mutual information"
   ]
  },
  {
   "cell_type": "code",
   "execution_count": 32,
   "metadata": {
    "ExecuteTime": {
     "end_time": "2021-04-03T05:21:19.071882Z",
     "start_time": "2021-04-03T05:17:10.322576Z"
    }
   },
   "outputs": [
    {
     "data": {
      "text/plain": [
       "array([0.22903363, 0.07009168, 0.18730669, 0.00436094, 0.46386072,\n",
       "       0.02773011, 0.07077595, 0.11210334, 0.59892904, 0.5570587 ,\n",
       "       0.32266869, 0.37102229, 0.22386721, 0.28872167, 0.22689492,\n",
       "       0.41238205, 0.28158227, 0.41743398, 0.33954367, 0.27684345,\n",
       "       0.22995999, 0.01850664, 0.37867481, 0.45309395, 0.20434425,\n",
       "       0.16358934, 0.01795575, 0.24731386, 0.24178538, 0.20232254,\n",
       "       0.16011613, 0.01719735, 0.23986459, 0.23166856])"
      ]
     },
     "execution_count": 32,
     "metadata": {},
     "output_type": "execute_result"
    }
   ],
   "source": [
    "from sklearn.feature_selection import mutual_info_classif\n",
    "# determine the mutual information\n",
    "mutual_info = mutual_info_classif(X_train_smote, y_train_smote)\n",
    "mutual_info"
   ]
  },
  {
   "cell_type": "code",
   "execution_count": 33,
   "metadata": {
    "ExecuteTime": {
     "end_time": "2021-04-03T05:21:42.201864Z",
     "start_time": "2021-04-03T05:21:42.185512Z"
    }
   },
   "outputs": [
    {
     "data": {
      "text/plain": [
       "caller_id                0.598929\n",
       "open_by                  0.557059\n",
       "sysmodcount              0.463861\n",
       "updated_minute           0.453094\n",
       "resolved_by              0.417434\n",
       "assigned_to              0.412382\n",
       "updated_hr               0.378675\n",
       "updatedby                0.371022\n",
       "assignment_group         0.339544\n",
       "createdby                0.322669\n",
       "subbcategory             0.288722\n",
       "categoryy                0.281582\n",
       "updated_day              0.276843\n",
       "opened_at_hr             0.247314\n",
       "opened_at_minute         0.241785\n",
       "created_at_hr            0.239865\n",
       "created_at_minute        0.231669\n",
       "updated_month            0.229960\n",
       "incidentstate            0.229034\n",
       "symptom                  0.226895\n",
       "loc                      0.223867\n",
       "opened_at_day            0.204344\n",
       "created_at_day           0.202323\n",
       "reassignmentcount        0.187307\n",
       "opened_at_month          0.163589\n",
       "created_at_month         0.160116\n",
       "upriorityconfirmation    0.112103\n",
       "knowledge                0.070776\n",
       "active                   0.070092\n",
       "contacttype              0.027730\n",
       "updated_year             0.018507\n",
       "opened_at_year           0.017956\n",
       "created_at_year          0.017197\n",
       "reopencount              0.004361\n",
       "dtype: float64"
      ]
     },
     "execution_count": 33,
     "metadata": {},
     "output_type": "execute_result"
    }
   ],
   "source": [
    "mutual_info = pd.Series(mutual_info)\n",
    "mutual_info.index = X_train.columns\n",
    "mutual_info.sort_values(ascending=False)\n"
   ]
  },
  {
   "cell_type": "code",
   "execution_count": 34,
   "metadata": {
    "ExecuteTime": {
     "end_time": "2021-04-03T05:22:06.977078Z",
     "start_time": "2021-04-03T05:22:06.516701Z"
    }
   },
   "outputs": [
    {
     "data": {
      "text/plain": [
       "<matplotlib.axes._subplots.AxesSubplot at 0x26931b8c400>"
      ]
     },
     "execution_count": 34,
     "metadata": {},
     "output_type": "execute_result"
    },
    {
     "data": {
      "image/png": "[encoded data removed]",
      "text/plain": [
       "<Figure size 1080x288 with 1 Axes>"
      ]
     },
     "metadata": {
      "needs_background": "light"
     },
     "output_type": "display_data"
    }
   ],
   "source": [
    "#let's plot the ordered mutual_info values per feature\n",
    "mutual_info.sort_values(ascending=False).plot.bar(figsize=(15, 4))\n"
   ]
  },
  {
   "cell_type": "code",
   "execution_count": 35,
   "metadata": {
    "ExecuteTime": {
     "end_time": "2021-04-03T05:22:31.656557Z",
     "start_time": "2021-04-03T05:22:31.641783Z"
    }
   },
   "outputs": [],
   "source": [
    "from sklearn.feature_selection import SelectKBest\n",
    "from sklearn.feature_selection import chi2"
   ]
  },
  {
   "cell_type": "code",
   "execution_count": 36,
   "metadata": {
    "ExecuteTime": {
     "end_time": "2021-04-03T05:26:57.636468Z",
     "start_time": "2021-04-03T05:22:53.051025Z"
    }
   },
   "outputs": [
    {
     "data": {
      "text/plain": [
       "Index(['sysmodcount', 'caller_id', 'open_by', 'createdby', 'updatedby',\n",
       "       'assigned_to', 'resolved_by', 'assignment_group', 'updated_hr',\n",
       "       'updated_minute'],\n",
       "      dtype='object')"
      ]
     },
     "execution_count": 36,
     "metadata": {},
     "output_type": "execute_result"
    }
   ],
   "source": [
    "#No we Will select the  top 5 important features\n",
    "sel_five_cols = SelectKBest(mutual_info_classif, k=10)\n",
    "sel_five_cols.fit(X_train_smote, y_train_smote)\n",
    "X_train.columns[sel_five_cols.get_support()]\n"
   ]
  },
  {
   "cell_type": "markdown",
   "metadata": {},
   "source": [
    "### Feature Importance using Decision Tree Classifier"
   ]
  },
  {
   "cell_type": "code",
   "execution_count": 37,
   "metadata": {
    "ExecuteTime": {
     "end_time": "2021-04-03T05:27:53.988705Z",
     "start_time": "2021-04-03T05:27:31.964027Z"
    }
   },
   "outputs": [
    {
     "data": {
      "text/plain": [
       "DecisionTreeClassifier()"
      ]
     },
     "execution_count": 37,
     "metadata": {},
     "output_type": "execute_result"
    }
   ],
   "source": [
    "from sklearn.tree import DecisionTreeClassifier\n",
    "\n",
    "model= DecisionTreeClassifier()\n",
    "model.fit(X_train_smote,y_train_smote)"
   ]
  },
  {
   "cell_type": "code",
   "execution_count": 38,
   "metadata": {
    "ExecuteTime": {
     "end_time": "2021-04-03T05:27:56.220766Z",
     "start_time": "2021-04-03T05:27:56.200819Z"
    }
   },
   "outputs": [
    {
     "data": {
      "text/plain": [
       "open_by                  0.242338\n",
       "assignment_group         0.089101\n",
       "sysmodcount              0.079730\n",
       "opened_at_hr             0.054005\n",
       "caller_id                0.053689\n",
       "reassignmentcount        0.039402\n",
       "createdby                0.037564\n",
       "knowledge                0.036178\n",
       "created_at_hr            0.032845\n",
       "subbcategory             0.030735\n",
       "upriorityconfirmation    0.029824\n",
       "resolved_by              0.029232\n",
       "categoryy                0.024447\n",
       "incidentstate            0.022956\n",
       "loc                      0.022899\n",
       "opened_at_minute         0.019180\n",
       "symptom                  0.018262\n",
       "assigned_to              0.016747\n",
       "opened_at_month          0.015202\n",
       "created_at_day           0.014683\n",
       "updatedby                0.013975\n",
       "created_at_month         0.013244\n",
       "created_at_minute        0.011964\n",
       "opened_at_day            0.011285\n",
       "updated_day              0.008284\n",
       "updated_hr               0.007541\n",
       "updated_month            0.007269\n",
       "active                   0.006038\n",
       "updated_minute           0.004260\n",
       "reopencount              0.003969\n",
       "created_at_year          0.002360\n",
       "contacttype              0.000609\n",
       "updated_year             0.000100\n",
       "opened_at_year           0.000079\n",
       "dtype: float64"
      ]
     },
     "execution_count": 38,
     "metadata": {},
     "output_type": "execute_result"
    }
   ],
   "source": [
    "feature = pd.Series(model.feature_importances_)\n",
    "feature.index = X_train.columns\n",
    "feature.sort_values(ascending=False)\n"
   ]
  },
  {
   "cell_type": "code",
   "execution_count": 39,
   "metadata": {
    "ExecuteTime": {
     "end_time": "2021-04-03T05:28:21.946471Z",
     "start_time": "2021-04-03T05:28:21.386575Z"
    }
   },
   "outputs": [
    {
     "data": {
      "text/plain": [
       "<matplotlib.axes._subplots.AxesSubplot at 0x2693e0e5460>"
      ]
     },
     "execution_count": 39,
     "metadata": {},
     "output_type": "execute_result"
    },
    {
     "data": {
      "image/png": "[encoded data removed]",
      "text/plain": [
       "<Figure size 1080x288 with 1 Axes>"
      ]
     },
     "metadata": {
      "needs_background": "light"
     },
     "output_type": "display_data"
    }
   ],
   "source": [
    "feature.sort_values(ascending=False).plot.bar(figsize=(15, 4))\n"
   ]
  },
  {
   "cell_type": "markdown",
   "metadata": {},
   "source": [
    "### Feature Selection using Chi Square "
   ]
  },
  {
   "cell_type": "code",
   "execution_count": 40,
   "metadata": {
    "ExecuteTime": {
     "end_time": "2021-04-03T05:29:10.128771Z",
     "start_time": "2021-04-03T05:29:09.806455Z"
    }
   },
   "outputs": [
    {
     "data": {
      "text/plain": [
       "SelectKBest(k=16, score_func=<function chi2 at 0x0000026931C0BA60>)"
      ]
     },
     "execution_count": 40,
     "metadata": {},
     "output_type": "execute_result"
    }
   ],
   "source": [
    "ordered_rank_feature=SelectKBest(score_func=chi2,k=16)\n",
    "ordered_feature=ordered_rank_feature.fit(X_train_smote,y_train_smote)\n",
    "ordered_feature"
   ]
  },
  {
   "cell_type": "code",
   "execution_count": 43,
   "metadata": {
    "ExecuteTime": {
     "end_time": "2021-04-03T05:30:10.316094Z",
     "start_time": "2021-04-03T05:30:10.275697Z"
    }
   },
   "outputs": [
    {
     "data": {
      "text/html": [
       "<div>\n",
       "<style scoped>\n",
       "    .dataframe tbody tr th:only-of-type {\n",
       "        vertical-align: middle;\n",
       "    }\n",
       "\n",
       "    .dataframe tbody tr th {\n",
       "        vertical-align: top;\n",
       "    }\n",
       "\n",
       "    .dataframe thead th {\n",
       "        text-align: right;\n",
       "    }\n",
       "</style>\n",
       "<table border=\"1\" class=\"dataframe\">\n",
       "  <thead>\n",
       "    <tr style=\"text-align: right;\">\n",
       "      <th></th>\n",
       "      <th>scores</th>\n",
       "      <th>0</th>\n",
       "    </tr>\n",
       "  </thead>\n",
       "  <tbody>\n",
       "    <tr>\n",
       "      <th>8</th>\n",
       "      <td>1.595930e+06</td>\n",
       "      <td>caller_id</td>\n",
       "    </tr>\n",
       "    <tr>\n",
       "      <th>9</th>\n",
       "      <td>8.731750e+05</td>\n",
       "      <td>open_by</td>\n",
       "    </tr>\n",
       "    <tr>\n",
       "      <th>11</th>\n",
       "      <td>3.492463e+05</td>\n",
       "      <td>updatedby</td>\n",
       "    </tr>\n",
       "    <tr>\n",
       "      <th>10</th>\n",
       "      <td>2.530590e+05</td>\n",
       "      <td>createdby</td>\n",
       "    </tr>\n",
       "    <tr>\n",
       "      <th>15</th>\n",
       "      <td>7.835950e+04</td>\n",
       "      <td>assigned_to</td>\n",
       "    </tr>\n",
       "    <tr>\n",
       "      <th>17</th>\n",
       "      <td>6.064706e+04</td>\n",
       "      <td>resolved_by</td>\n",
       "    </tr>\n",
       "    <tr>\n",
       "      <th>12</th>\n",
       "      <td>4.963523e+04</td>\n",
       "      <td>loc</td>\n",
       "    </tr>\n",
       "    <tr>\n",
       "      <th>4</th>\n",
       "      <td>2.616341e+04</td>\n",
       "      <td>sysmodcount</td>\n",
       "    </tr>\n",
       "    <tr>\n",
       "      <th>13</th>\n",
       "      <td>2.569817e+04</td>\n",
       "      <td>subbcategory</td>\n",
       "    </tr>\n",
       "    <tr>\n",
       "      <th>24</th>\n",
       "      <td>2.258494e+04</td>\n",
       "      <td>opened_at_day</td>\n",
       "    </tr>\n",
       "  </tbody>\n",
       "</table>\n",
       "</div>"
      ],
      "text/plain": [
       "          scores              0\n",
       "8   1.595930e+06      caller_id\n",
       "9   8.731750e+05        open_by\n",
       "11  3.492463e+05      updatedby\n",
       "10  2.530590e+05      createdby\n",
       "15  7.835950e+04    assigned_to\n",
       "17  6.064706e+04    resolved_by\n",
       "12  4.963523e+04            loc\n",
       "4   2.616341e+04    sysmodcount\n",
       "13  2.569817e+04   subbcategory\n",
       "24  2.258494e+04  opened_at_day"
      ]
     },
     "execution_count": 43,
     "metadata": {},
     "output_type": "execute_result"
    }
   ],
   "source": [
    "df_scores=pd.DataFrame(ordered_feature.scores_,columns=['scores'])\n",
    "df_columns=pd.DataFrame(X_train.columns)\n",
    "features_rank=pd.concat([df_scores,df_columns],axis=1)\n",
    "features_rank.nlargest(10,'scores')\n",
    "\n",
    "#These are top 10 features useful for predicting impact"
   ]
  },
  {
   "cell_type": "markdown",
   "metadata": {},
   "source": [
    "### These are the top ten features for  the prediction of the impact "
   ]
  },
  {
   "cell_type": "markdown",
   "metadata": {},
   "source": [
    "let us choose any 5-6 features from above "
   ]
  },
  {
   "cell_type": "code",
   "execution_count": null,
   "metadata": {},
   "outputs": [],
   "source": []
  }
 ],
 "metadata": {
  "kernelspec": {
   "display_name": "Python 3",
   "language": "python",
   "name": "python3"
  },
  "language_info": {
   "codemirror_mode": {
    "name": "ipython",
    "version": 3
   },
   "file_extension": ".py",
   "mimetype": "text/x-python",
   "name": "python",
   "nbconvert_exporter": "python",
   "pygments_lexer": "ipython3",
   "version": "3.8.3"
  },
  "varInspector": {
   "cols": {
    "lenName": 16,
    "lenType": 16,
    "lenVar": 40
   },
   "kernels_config": {
    "python": {
     "delete_cmd_postfix": "",
     "delete_cmd_prefix": "del ",
     "library": "var_list.py",
     "varRefreshCmd": "print(var_dic_list())"
    },
    "r": {
     "delete_cmd_postfix": ") ",
     "delete_cmd_prefix": "rm(",
     "library": "var_list.r",
     "varRefreshCmd": "cat(var_dic_list()) "
    }
   },
   "types_to_exclude": [
    "module",
    "function",
    "builtin_function_or_method",
    "instance",
    "_Feature"
   ],
   "window_display": false
  }
 },
 "nbformat": 4,
 "nbformat_minor": 4
}

{
 "cells": [
  {
   "cell_type": "code",
   "execution_count": 1,
   "metadata": {
    "ExecuteTime": {
     "end_time": "2021-04-03T05:35:28.471034Z",
     "start_time": "2021-04-03T05:35:10.676818Z"
    }
   },
   "outputs": [],
   "source": [
    "import pandas as pd\n",
    "import numpy as np \n",
    "from matplotlib import pyplot as plt \n",
    "import seaborn as sns "
   ]
  },
  {
   "cell_type": "code",
   "execution_count": 3,
   "metadata": {
    "ExecuteTime": {
     "end_time": "2021-04-03T05:36:10.765791Z",
     "start_time": "2021-04-03T05:36:10.173637Z"
    }
   },
   "outputs": [],
   "source": [
    "df = pd.read_csv(\"incident.csv\")"
   ]
  },
  {
   "cell_type": "code",
   "execution_count": 4,
   "metadata": {
    "ExecuteTime": {
     "end_time": "2021-04-03T05:36:32.628100Z",
     "start_time": "2021-04-03T05:36:32.580949Z"
    }
   },
   "outputs": [
    {
     "data": {
      "text/html": [
       "<div>\n",
       "<style scoped>\n",
       "    .dataframe tbody tr th:only-of-type {\n",
       "        vertical-align: middle;\n",
       "    }\n",
       "\n",
       "    .dataframe tbody tr th {\n",
       "        vertical-align: top;\n",
       "    }\n",
       "\n",
       "    .dataframe thead th {\n",
       "        text-align: right;\n",
       "    }\n",
       "</style>\n",
       "<table border=\"1\" class=\"dataframe\">\n",
       "  <thead>\n",
       "    <tr style=\"text-align: right;\">\n",
       "      <th></th>\n",
       "      <th>Unnamed: 0</th>\n",
       "      <th>incidentstate</th>\n",
       "      <th>active</th>\n",
       "      <th>reassignmentcount</th>\n",
       "      <th>reopencount</th>\n",
       "      <th>sysmodcount</th>\n",
       "      <th>contacttype</th>\n",
       "      <th>knowledge</th>\n",
       "      <th>upriorityconfirmation</th>\n",
       "      <th>caller_id</th>\n",
       "      <th>...</th>\n",
       "      <th>opened_at_day</th>\n",
       "      <th>opened_at_month</th>\n",
       "      <th>opened_at_year</th>\n",
       "      <th>opened_at_hr</th>\n",
       "      <th>opened_at_minute</th>\n",
       "      <th>created_at_day</th>\n",
       "      <th>created_at_month</th>\n",
       "      <th>created_at_year</th>\n",
       "      <th>created_at_hr</th>\n",
       "      <th>created_at_minute</th>\n",
       "    </tr>\n",
       "  </thead>\n",
       "  <tbody>\n",
       "    <tr>\n",
       "      <th>0</th>\n",
       "      <td>4</td>\n",
       "      <td>7</td>\n",
       "      <td>1</td>\n",
       "      <td>0</td>\n",
       "      <td>0</td>\n",
       "      <td>0</td>\n",
       "      <td>3</td>\n",
       "      <td>1</td>\n",
       "      <td>0</td>\n",
       "      <td>2403</td>\n",
       "      <td>...</td>\n",
       "      <td>29</td>\n",
       "      <td>2</td>\n",
       "      <td>2016</td>\n",
       "      <td>4</td>\n",
       "      <td>40</td>\n",
       "      <td>29</td>\n",
       "      <td>2</td>\n",
       "      <td>2016</td>\n",
       "      <td>4</td>\n",
       "      <td>57</td>\n",
       "    </tr>\n",
       "    <tr>\n",
       "      <th>1</th>\n",
       "      <td>5</td>\n",
       "      <td>1</td>\n",
       "      <td>1</td>\n",
       "      <td>1</td>\n",
       "      <td>0</td>\n",
       "      <td>1</td>\n",
       "      <td>3</td>\n",
       "      <td>1</td>\n",
       "      <td>0</td>\n",
       "      <td>2403</td>\n",
       "      <td>...</td>\n",
       "      <td>29</td>\n",
       "      <td>2</td>\n",
       "      <td>2016</td>\n",
       "      <td>4</td>\n",
       "      <td>40</td>\n",
       "      <td>29</td>\n",
       "      <td>2</td>\n",
       "      <td>2016</td>\n",
       "      <td>4</td>\n",
       "      <td>57</td>\n",
       "    </tr>\n",
       "    <tr>\n",
       "      <th>2</th>\n",
       "      <td>6</td>\n",
       "      <td>1</td>\n",
       "      <td>1</td>\n",
       "      <td>1</td>\n",
       "      <td>0</td>\n",
       "      <td>2</td>\n",
       "      <td>3</td>\n",
       "      <td>1</td>\n",
       "      <td>0</td>\n",
       "      <td>2403</td>\n",
       "      <td>...</td>\n",
       "      <td>29</td>\n",
       "      <td>2</td>\n",
       "      <td>2016</td>\n",
       "      <td>4</td>\n",
       "      <td>40</td>\n",
       "      <td>29</td>\n",
       "      <td>2</td>\n",
       "      <td>2016</td>\n",
       "      <td>4</td>\n",
       "      <td>57</td>\n",
       "    </tr>\n",
       "    <tr>\n",
       "      <th>3</th>\n",
       "      <td>7</td>\n",
       "      <td>1</td>\n",
       "      <td>1</td>\n",
       "      <td>1</td>\n",
       "      <td>0</td>\n",
       "      <td>3</td>\n",
       "      <td>3</td>\n",
       "      <td>1</td>\n",
       "      <td>0</td>\n",
       "      <td>2403</td>\n",
       "      <td>...</td>\n",
       "      <td>29</td>\n",
       "      <td>2</td>\n",
       "      <td>2016</td>\n",
       "      <td>4</td>\n",
       "      <td>40</td>\n",
       "      <td>29</td>\n",
       "      <td>2</td>\n",
       "      <td>2016</td>\n",
       "      <td>4</td>\n",
       "      <td>57</td>\n",
       "    </tr>\n",
       "    <tr>\n",
       "      <th>4</th>\n",
       "      <td>8</td>\n",
       "      <td>1</td>\n",
       "      <td>1</td>\n",
       "      <td>1</td>\n",
       "      <td>0</td>\n",
       "      <td>4</td>\n",
       "      <td>3</td>\n",
       "      <td>1</td>\n",
       "      <td>0</td>\n",
       "      <td>2403</td>\n",
       "      <td>...</td>\n",
       "      <td>29</td>\n",
       "      <td>2</td>\n",
       "      <td>2016</td>\n",
       "      <td>4</td>\n",
       "      <td>40</td>\n",
       "      <td>29</td>\n",
       "      <td>2</td>\n",
       "      <td>2016</td>\n",
       "      <td>4</td>\n",
       "      <td>57</td>\n",
       "    </tr>\n",
       "  </tbody>\n",
       "</table>\n",
       "<p>5 rows × 36 columns</p>\n",
       "</div>"
      ],
      "text/plain": [
       "   Unnamed: 0  incidentstate  active  reassignmentcount  reopencount  \\\n",
       "0           4              7       1                  0            0   \n",
       "1           5              1       1                  1            0   \n",
       "2           6              1       1                  1            0   \n",
       "3           7              1       1                  1            0   \n",
       "4           8              1       1                  1            0   \n",
       "\n",
       "   sysmodcount  contacttype  knowledge  upriorityconfirmation  caller_id  ...  \\\n",
       "0            0            3          1                      0       2403  ...   \n",
       "1            1            3          1                      0       2403  ...   \n",
       "2            2            3          1                      0       2403  ...   \n",
       "3            3            3          1                      0       2403  ...   \n",
       "4            4            3          1                      0       2403  ...   \n",
       "\n",
       "   opened_at_day  opened_at_month  opened_at_year  opened_at_hr  \\\n",
       "0             29                2            2016             4   \n",
       "1             29                2            2016             4   \n",
       "2             29                2            2016             4   \n",
       "3             29                2            2016             4   \n",
       "4             29                2            2016             4   \n",
       "\n",
       "   opened_at_minute  created_at_day  created_at_month  created_at_year  \\\n",
       "0                40              29                 2             2016   \n",
       "1                40              29                 2             2016   \n",
       "2                40              29                 2             2016   \n",
       "3                40              29                 2             2016   \n",
       "4                40              29                 2             2016   \n",
       "\n",
       "   created_at_hr  created_at_minute  \n",
       "0              4                 57  \n",
       "1              4                 57  \n",
       "2              4                 57  \n",
       "3              4                 57  \n",
       "4              4                 57  \n",
       "\n",
       "[5 rows x 36 columns]"
      ]
     },
     "execution_count": 4,
     "metadata": {},
     "output_type": "execute_result"
    }
   ],
   "source": [
    "df.head()"
   ]
  },
  {
   "cell_type": "code",
   "execution_count": 5,
   "metadata": {
    "ExecuteTime": {
     "end_time": "2021-04-03T05:36:54.637403Z",
     "start_time": "2021-04-03T05:36:54.603772Z"
    }
   },
   "outputs": [],
   "source": [
    "df.drop(['Unnamed: 0'],axis=1,inplace=True)"
   ]
  },
  {
   "cell_type": "code",
   "execution_count": 6,
   "metadata": {
    "ExecuteTime": {
     "end_time": "2021-04-03T05:37:03.501970Z",
     "start_time": "2021-04-03T05:37:03.472667Z"
    }
   },
   "outputs": [
    {
     "data": {
      "text/html": [
       "<div>\n",
       "<style scoped>\n",
       "    .dataframe tbody tr th:only-of-type {\n",
       "        vertical-align: middle;\n",
       "    }\n",
       "\n",
       "    .dataframe tbody tr th {\n",
       "        vertical-align: top;\n",
       "    }\n",
       "\n",
       "    .dataframe thead th {\n",
       "        text-align: right;\n",
       "    }\n",
       "</style>\n",
       "<table border=\"1\" class=\"dataframe\">\n",
       "  <thead>\n",
       "    <tr style=\"text-align: right;\">\n",
       "      <th></th>\n",
       "      <th>incidentstate</th>\n",
       "      <th>active</th>\n",
       "      <th>reassignmentcount</th>\n",
       "      <th>reopencount</th>\n",
       "      <th>sysmodcount</th>\n",
       "      <th>contacttype</th>\n",
       "      <th>knowledge</th>\n",
       "      <th>upriorityconfirmation</th>\n",
       "      <th>caller_id</th>\n",
       "      <th>open_by</th>\n",
       "      <th>...</th>\n",
       "      <th>opened_at_day</th>\n",
       "      <th>opened_at_month</th>\n",
       "      <th>opened_at_year</th>\n",
       "      <th>opened_at_hr</th>\n",
       "      <th>opened_at_minute</th>\n",
       "      <th>created_at_day</th>\n",
       "      <th>created_at_month</th>\n",
       "      <th>created_at_year</th>\n",
       "      <th>created_at_hr</th>\n",
       "      <th>created_at_minute</th>\n",
       "    </tr>\n",
       "  </thead>\n",
       "  <tbody>\n",
       "    <tr>\n",
       "      <th>0</th>\n",
       "      <td>7</td>\n",
       "      <td>1</td>\n",
       "      <td>0</td>\n",
       "      <td>0</td>\n",
       "      <td>0</td>\n",
       "      <td>3</td>\n",
       "      <td>1</td>\n",
       "      <td>0</td>\n",
       "      <td>2403</td>\n",
       "      <td>397</td>\n",
       "      <td>...</td>\n",
       "      <td>29</td>\n",
       "      <td>2</td>\n",
       "      <td>2016</td>\n",
       "      <td>4</td>\n",
       "      <td>40</td>\n",
       "      <td>29</td>\n",
       "      <td>2</td>\n",
       "      <td>2016</td>\n",
       "      <td>4</td>\n",
       "      <td>57</td>\n",
       "    </tr>\n",
       "    <tr>\n",
       "      <th>1</th>\n",
       "      <td>1</td>\n",
       "      <td>1</td>\n",
       "      <td>1</td>\n",
       "      <td>0</td>\n",
       "      <td>1</td>\n",
       "      <td>3</td>\n",
       "      <td>1</td>\n",
       "      <td>0</td>\n",
       "      <td>2403</td>\n",
       "      <td>397</td>\n",
       "      <td>...</td>\n",
       "      <td>29</td>\n",
       "      <td>2</td>\n",
       "      <td>2016</td>\n",
       "      <td>4</td>\n",
       "      <td>40</td>\n",
       "      <td>29</td>\n",
       "      <td>2</td>\n",
       "      <td>2016</td>\n",
       "      <td>4</td>\n",
       "      <td>57</td>\n",
       "    </tr>\n",
       "    <tr>\n",
       "      <th>2</th>\n",
       "      <td>1</td>\n",
       "      <td>1</td>\n",
       "      <td>1</td>\n",
       "      <td>0</td>\n",
       "      <td>2</td>\n",
       "      <td>3</td>\n",
       "      <td>1</td>\n",
       "      <td>0</td>\n",
       "      <td>2403</td>\n",
       "      <td>397</td>\n",
       "      <td>...</td>\n",
       "      <td>29</td>\n",
       "      <td>2</td>\n",
       "      <td>2016</td>\n",
       "      <td>4</td>\n",
       "      <td>40</td>\n",
       "      <td>29</td>\n",
       "      <td>2</td>\n",
       "      <td>2016</td>\n",
       "      <td>4</td>\n",
       "      <td>57</td>\n",
       "    </tr>\n",
       "    <tr>\n",
       "      <th>3</th>\n",
       "      <td>1</td>\n",
       "      <td>1</td>\n",
       "      <td>1</td>\n",
       "      <td>0</td>\n",
       "      <td>3</td>\n",
       "      <td>3</td>\n",
       "      <td>1</td>\n",
       "      <td>0</td>\n",
       "      <td>2403</td>\n",
       "      <td>397</td>\n",
       "      <td>...</td>\n",
       "      <td>29</td>\n",
       "      <td>2</td>\n",
       "      <td>2016</td>\n",
       "      <td>4</td>\n",
       "      <td>40</td>\n",
       "      <td>29</td>\n",
       "      <td>2</td>\n",
       "      <td>2016</td>\n",
       "      <td>4</td>\n",
       "      <td>57</td>\n",
       "    </tr>\n",
       "    <tr>\n",
       "      <th>4</th>\n",
       "      <td>1</td>\n",
       "      <td>1</td>\n",
       "      <td>1</td>\n",
       "      <td>0</td>\n",
       "      <td>4</td>\n",
       "      <td>3</td>\n",
       "      <td>1</td>\n",
       "      <td>0</td>\n",
       "      <td>2403</td>\n",
       "      <td>397</td>\n",
       "      <td>...</td>\n",
       "      <td>29</td>\n",
       "      <td>2</td>\n",
       "      <td>2016</td>\n",
       "      <td>4</td>\n",
       "      <td>40</td>\n",
       "      <td>29</td>\n",
       "      <td>2</td>\n",
       "      <td>2016</td>\n",
       "      <td>4</td>\n",
       "      <td>57</td>\n",
       "    </tr>\n",
       "  </tbody>\n",
       "</table>\n",
       "<p>5 rows × 35 columns</p>\n",
       "</div>"
      ],
      "text/plain": [
       "   incidentstate  active  reassignmentcount  reopencount  sysmodcount  \\\n",
       "0              7       1                  0            0            0   \n",
       "1              1       1                  1            0            1   \n",
       "2              1       1                  1            0            2   \n",
       "3              1       1                  1            0            3   \n",
       "4              1       1                  1            0            4   \n",
       "\n",
       "   contacttype  knowledge  upriorityconfirmation  caller_id  open_by  ...  \\\n",
       "0            3          1                      0       2403      397  ...   \n",
       "1            3          1                      0       2403      397  ...   \n",
       "2            3          1                      0       2403      397  ...   \n",
       "3            3          1                      0       2403      397  ...   \n",
       "4            3          1                      0       2403      397  ...   \n",
       "\n",
       "   opened_at_day  opened_at_month  opened_at_year  opened_at_hr  \\\n",
       "0             29                2            2016             4   \n",
       "1             29                2            2016             4   \n",
       "2             29                2            2016             4   \n",
       "3             29                2            2016             4   \n",
       "4             29                2            2016             4   \n",
       "\n",
       "   opened_at_minute  created_at_day  created_at_month  created_at_year  \\\n",
       "0                40              29                 2             2016   \n",
       "1                40              29                 2             2016   \n",
       "2                40              29                 2             2016   \n",
       "3                40              29                 2             2016   \n",
       "4                40              29                 2             2016   \n",
       "\n",
       "   created_at_hr  created_at_minute  \n",
       "0              4                 57  \n",
       "1              4                 57  \n",
       "2              4                 57  \n",
       "3              4                 57  \n",
       "4              4                 57  \n",
       "\n",
       "[5 rows x 35 columns]"
      ]
     },
     "execution_count": 6,
     "metadata": {},
     "output_type": "execute_result"
    }
   ],
   "source": [
    "df.head()"
   ]
  },
  {
   "cell_type": "code",
   "execution_count": 7,
   "metadata": {
    "ExecuteTime": {
     "end_time": "2021-04-03T05:37:21.586901Z",
     "start_time": "2021-04-03T05:37:21.558910Z"
    }
   },
   "outputs": [
    {
     "data": {
      "text/plain": [
       "incidentstate            0\n",
       "active                   0\n",
       "reassignmentcount        0\n",
       "reopencount              0\n",
       "sysmodcount              0\n",
       "contacttype              0\n",
       "knowledge                0\n",
       "upriorityconfirmation    0\n",
       "caller_id                0\n",
       "open_by                  0\n",
       "createdby                0\n",
       "updatedby                0\n",
       "loc                      0\n",
       "subbcategory             0\n",
       "symptom                  0\n",
       "i_impact                 0\n",
       "assigned_to              0\n",
       "categoryy                0\n",
       "resolved_by              0\n",
       "assignment_group         0\n",
       "updated_day              0\n",
       "updated_month            0\n",
       "updated_year             0\n",
       "updated_hr               0\n",
       "updated_minute           0\n",
       "opened_at_day            0\n",
       "opened_at_month          0\n",
       "opened_at_year           0\n",
       "opened_at_hr             0\n",
       "opened_at_minute         0\n",
       "created_at_day           0\n",
       "created_at_month         0\n",
       "created_at_year          0\n",
       "created_at_hr            0\n",
       "created_at_minute        0\n",
       "dtype: int64"
      ]
     },
     "execution_count": 7,
     "metadata": {},
     "output_type": "execute_result"
    }
   ],
   "source": [
    "df.isnull().sum()"
   ]
  },
  {
   "cell_type": "code",
   "execution_count": 8,
   "metadata": {
    "ExecuteTime": {
     "end_time": "2021-04-03T05:37:32.848153Z",
     "start_time": "2021-04-03T05:37:32.821272Z"
    }
   },
   "outputs": [],
   "source": [
    "X=df.drop(\"i_impact\",axis=1)"
   ]
  },
  {
   "cell_type": "code",
   "execution_count": 9,
   "metadata": {
    "ExecuteTime": {
     "end_time": "2021-04-03T05:37:42.779211Z",
     "start_time": "2021-04-03T05:37:42.745136Z"
    }
   },
   "outputs": [
    {
     "data": {
      "text/html": [
       "<div>\n",
       "<style scoped>\n",
       "    .dataframe tbody tr th:only-of-type {\n",
       "        vertical-align: middle;\n",
       "    }\n",
       "\n",
       "    .dataframe tbody tr th {\n",
       "        vertical-align: top;\n",
       "    }\n",
       "\n",
       "    .dataframe thead th {\n",
       "        text-align: right;\n",
       "    }\n",
       "</style>\n",
       "<table border=\"1\" class=\"dataframe\">\n",
       "  <thead>\n",
       "    <tr style=\"text-align: right;\">\n",
       "      <th></th>\n",
       "      <th>incidentstate</th>\n",
       "      <th>active</th>\n",
       "      <th>reassignmentcount</th>\n",
       "      <th>reopencount</th>\n",
       "      <th>sysmodcount</th>\n",
       "      <th>contacttype</th>\n",
       "      <th>knowledge</th>\n",
       "      <th>upriorityconfirmation</th>\n",
       "      <th>caller_id</th>\n",
       "      <th>open_by</th>\n",
       "      <th>...</th>\n",
       "      <th>opened_at_day</th>\n",
       "      <th>opened_at_month</th>\n",
       "      <th>opened_at_year</th>\n",
       "      <th>opened_at_hr</th>\n",
       "      <th>opened_at_minute</th>\n",
       "      <th>created_at_day</th>\n",
       "      <th>created_at_month</th>\n",
       "      <th>created_at_year</th>\n",
       "      <th>created_at_hr</th>\n",
       "      <th>created_at_minute</th>\n",
       "    </tr>\n",
       "  </thead>\n",
       "  <tbody>\n",
       "    <tr>\n",
       "      <th>0</th>\n",
       "      <td>7</td>\n",
       "      <td>1</td>\n",
       "      <td>0</td>\n",
       "      <td>0</td>\n",
       "      <td>0</td>\n",
       "      <td>3</td>\n",
       "      <td>1</td>\n",
       "      <td>0</td>\n",
       "      <td>2403</td>\n",
       "      <td>397</td>\n",
       "      <td>...</td>\n",
       "      <td>29</td>\n",
       "      <td>2</td>\n",
       "      <td>2016</td>\n",
       "      <td>4</td>\n",
       "      <td>40</td>\n",
       "      <td>29</td>\n",
       "      <td>2</td>\n",
       "      <td>2016</td>\n",
       "      <td>4</td>\n",
       "      <td>57</td>\n",
       "    </tr>\n",
       "    <tr>\n",
       "      <th>1</th>\n",
       "      <td>1</td>\n",
       "      <td>1</td>\n",
       "      <td>1</td>\n",
       "      <td>0</td>\n",
       "      <td>1</td>\n",
       "      <td>3</td>\n",
       "      <td>1</td>\n",
       "      <td>0</td>\n",
       "      <td>2403</td>\n",
       "      <td>397</td>\n",
       "      <td>...</td>\n",
       "      <td>29</td>\n",
       "      <td>2</td>\n",
       "      <td>2016</td>\n",
       "      <td>4</td>\n",
       "      <td>40</td>\n",
       "      <td>29</td>\n",
       "      <td>2</td>\n",
       "      <td>2016</td>\n",
       "      <td>4</td>\n",
       "      <td>57</td>\n",
       "    </tr>\n",
       "    <tr>\n",
       "      <th>2</th>\n",
       "      <td>1</td>\n",
       "      <td>1</td>\n",
       "      <td>1</td>\n",
       "      <td>0</td>\n",
       "      <td>2</td>\n",
       "      <td>3</td>\n",
       "      <td>1</td>\n",
       "      <td>0</td>\n",
       "      <td>2403</td>\n",
       "      <td>397</td>\n",
       "      <td>...</td>\n",
       "      <td>29</td>\n",
       "      <td>2</td>\n",
       "      <td>2016</td>\n",
       "      <td>4</td>\n",
       "      <td>40</td>\n",
       "      <td>29</td>\n",
       "      <td>2</td>\n",
       "      <td>2016</td>\n",
       "      <td>4</td>\n",
       "      <td>57</td>\n",
       "    </tr>\n",
       "    <tr>\n",
       "      <th>3</th>\n",
       "      <td>1</td>\n",
       "      <td>1</td>\n",
       "      <td>1</td>\n",
       "      <td>0</td>\n",
       "      <td>3</td>\n",
       "      <td>3</td>\n",
       "      <td>1</td>\n",
       "      <td>0</td>\n",
       "      <td>2403</td>\n",
       "      <td>397</td>\n",
       "      <td>...</td>\n",
       "      <td>29</td>\n",
       "      <td>2</td>\n",
       "      <td>2016</td>\n",
       "      <td>4</td>\n",
       "      <td>40</td>\n",
       "      <td>29</td>\n",
       "      <td>2</td>\n",
       "      <td>2016</td>\n",
       "      <td>4</td>\n",
       "      <td>57</td>\n",
       "    </tr>\n",
       "    <tr>\n",
       "      <th>4</th>\n",
       "      <td>1</td>\n",
       "      <td>1</td>\n",
       "      <td>1</td>\n",
       "      <td>0</td>\n",
       "      <td>4</td>\n",
       "      <td>3</td>\n",
       "      <td>1</td>\n",
       "      <td>0</td>\n",
       "      <td>2403</td>\n",
       "      <td>397</td>\n",
       "      <td>...</td>\n",
       "      <td>29</td>\n",
       "      <td>2</td>\n",
       "      <td>2016</td>\n",
       "      <td>4</td>\n",
       "      <td>40</td>\n",
       "      <td>29</td>\n",
       "      <td>2</td>\n",
       "      <td>2016</td>\n",
       "      <td>4</td>\n",
       "      <td>57</td>\n",
       "    </tr>\n",
       "  </tbody>\n",
       "</table>\n",
       "<p>5 rows × 34 columns</p>\n",
       "</div>"
      ],
      "text/plain": [
       "   incidentstate  active  reassignmentcount  reopencount  sysmodcount  \\\n",
       "0              7       1                  0            0            0   \n",
       "1              1       1                  1            0            1   \n",
       "2              1       1                  1            0            2   \n",
       "3              1       1                  1            0            3   \n",
       "4              1       1                  1            0            4   \n",
       "\n",
       "   contacttype  knowledge  upriorityconfirmation  caller_id  open_by  ...  \\\n",
       "0            3          1                      0       2403      397  ...   \n",
       "1            3          1                      0       2403      397  ...   \n",
       "2            3          1                      0       2403      397  ...   \n",
       "3            3          1                      0       2403      397  ...   \n",
       "4            3          1                      0       2403      397  ...   \n",
       "\n",
       "   opened_at_day  opened_at_month  opened_at_year  opened_at_hr  \\\n",
       "0             29                2            2016             4   \n",
       "1             29                2            2016             4   \n",
       "2             29                2            2016             4   \n",
       "3             29                2            2016             4   \n",
       "4             29                2            2016             4   \n",
       "\n",
       "   opened_at_minute  created_at_day  created_at_month  created_at_year  \\\n",
       "0                40              29                 2             2016   \n",
       "1                40              29                 2             2016   \n",
       "2                40              29                 2             2016   \n",
       "3                40              29                 2             2016   \n",
       "4                40              29                 2             2016   \n",
       "\n",
       "   created_at_hr  created_at_minute  \n",
       "0              4                 57  \n",
       "1              4                 57  \n",
       "2              4                 57  \n",
       "3              4                 57  \n",
       "4              4                 57  \n",
       "\n",
       "[5 rows x 34 columns]"
      ]
     },
     "execution_count": 9,
     "metadata": {},
     "output_type": "execute_result"
    }
   ],
   "source": [
    "X.head()"
   ]
  },
  {
   "cell_type": "code",
   "execution_count": 10,
   "metadata": {
    "ExecuteTime": {
     "end_time": "2021-04-03T05:37:52.560891Z",
     "start_time": "2021-04-03T05:37:52.548403Z"
    }
   },
   "outputs": [],
   "source": [
    "Y = df['i_impact']"
   ]
  },
  {
   "cell_type": "code",
   "execution_count": 11,
   "metadata": {
    "ExecuteTime": {
     "end_time": "2021-04-03T05:38:01.221970Z",
     "start_time": "2021-04-03T05:38:01.202362Z"
    }
   },
   "outputs": [
    {
     "data": {
      "text/plain": [
       "0    2\n",
       "1    2\n",
       "2    2\n",
       "3    2\n",
       "4    2\n",
       "Name: i_impact, dtype: int64"
      ]
     },
     "execution_count": 11,
     "metadata": {},
     "output_type": "execute_result"
    }
   ],
   "source": [
    "Y.head()"
   ]
  },
  {
   "cell_type": "code",
   "execution_count": 12,
   "metadata": {
    "ExecuteTime": {
     "end_time": "2021-04-03T05:38:09.885255Z",
     "start_time": "2021-04-03T05:38:09.869533Z"
    }
   },
   "outputs": [],
   "source": [
    "from sklearn.model_selection import train_test_split"
   ]
  },
  {
   "cell_type": "code",
   "execution_count": 13,
   "metadata": {
    "ExecuteTime": {
     "end_time": "2021-04-03T05:38:16.814342Z",
     "start_time": "2021-04-03T05:38:16.713619Z"
    }
   },
   "outputs": [],
   "source": [
    "X_train, X_test, y_train, y_test = train_test_split(X, Y, test_size=0.3,random_state=10)"
   ]
  },
  {
   "cell_type": "code",
   "execution_count": 14,
   "metadata": {
    "ExecuteTime": {
     "end_time": "2021-04-03T05:38:29.215005Z",
     "start_time": "2021-04-03T05:38:29.200035Z"
    }
   },
   "outputs": [],
   "source": [
    "from imblearn.over_sampling import SMOTE"
   ]
  },
  {
   "cell_type": "code",
   "execution_count": 15,
   "metadata": {
    "ExecuteTime": {
     "end_time": "2021-04-03T05:38:37.643345Z",
     "start_time": "2021-04-03T05:38:37.636854Z"
    }
   },
   "outputs": [],
   "source": [
    "smote = SMOTE()"
   ]
  },
  {
   "cell_type": "code",
   "execution_count": 16,
   "metadata": {
    "ExecuteTime": {
     "end_time": "2021-04-03T05:38:50.448743Z",
     "start_time": "2021-04-03T05:38:49.200529Z"
    }
   },
   "outputs": [],
   "source": [
    "X_train_smote, y_train_smote = smote.fit_resample(X_train.astype('float'), y_train)"
   ]
  },
  {
   "cell_type": "code",
   "execution_count": 18,
   "metadata": {
    "ExecuteTime": {
     "end_time": "2021-04-03T05:39:23.753607Z",
     "start_time": "2021-04-03T05:39:23.675867Z"
    }
   },
   "outputs": [
    {
     "name": "stdout",
     "output_type": "stream",
     "text": [
      "Before SMOTE : Counter({2: 94155, 3: 2647, 1: 2393})\n",
      "After SMOTE : Counter({2: 94155, 1: 94155, 3: 94155})\n"
     ]
    }
   ],
   "source": [
    "from collections import Counter\n",
    "print(\"Before SMOTE :\",Counter(y_train))\n",
    "print(\"After SMOTE :\",Counter(y_train_smote))"
   ]
  },
  {
   "cell_type": "markdown",
   "metadata": {},
   "source": [
    "# Using the important features which we have obtained after feature selection \n",
    "caller_id,open_by,updatedby,createdby,assigned_to,resolved_by,loc,sysmodcount,subbcategory,opened_at_day\n",
    "##selecting 5-6 features to predict impact of the incident from the obtained top 10 features "
   ]
  },
  {
   "cell_type": "code",
   "execution_count": 47,
   "metadata": {
    "ExecuteTime": {
     "end_time": "2021-04-03T06:07:17.079424Z",
     "start_time": "2021-04-03T06:07:17.042040Z"
    }
   },
   "outputs": [],
   "source": [
    "X_train_smote_new= X_train_smote[['open_by','loc','categoryy','caller_id','subbcategory','symptom','createdby','assigned_to','resolved_by','opened_at_day']]\n",
    "X_test_new= X_test[['open_by','loc','categoryy','caller_id','subbcategory','symptom','createdby','assigned_to','resolved_by','opened_at_day']]"
   ]
  },
  {
   "cell_type": "code",
   "execution_count": 48,
   "metadata": {
    "ExecuteTime": {
     "end_time": "2021-04-03T06:09:24.768552Z",
     "start_time": "2021-04-03T06:07:17.698723Z"
    }
   },
   "outputs": [
    {
     "data": {
      "text/plain": [
       "RandomForestClassifier(max_depth=27)"
      ]
     },
     "execution_count": 48,
     "metadata": {},
     "output_type": "execute_result"
    }
   ],
   "source": [
    "from sklearn.ensemble import RandomForestClassifier\n",
    "model_rf = RandomForestClassifier(max_depth=27)\n",
    "model_rf.fit(X_train_smote_new,y_train_smote)\n"
   ]
  },
  {
   "cell_type": "code",
   "execution_count": 49,
   "metadata": {
    "ExecuteTime": {
     "end_time": "2021-04-03T06:09:29.651435Z",
     "start_time": "2021-04-03T06:09:27.649936Z"
    }
   },
   "outputs": [],
   "source": [
    "# Predicting the model\n",
    "y_predict_rf = model_rf.predict(X_test_new)"
   ]
  },
  {
   "cell_type": "code",
   "execution_count": 50,
   "metadata": {
    "ExecuteTime": {
     "end_time": "2021-04-03T06:09:30.908042Z",
     "start_time": "2021-04-03T06:09:30.823987Z"
    }
   },
   "outputs": [
    {
     "name": "stdout",
     "output_type": "stream",
     "text": [
      "0.9843812480888199\n",
      "              precision    recall  f1-score   support\n",
      "\n",
      "           1       0.81      0.91      0.86      1098\n",
      "           2       1.00      0.99      0.99     40176\n",
      "           3       0.79      0.97      0.87      1239\n",
      "\n",
      "    accuracy                           0.98     42513\n",
      "   macro avg       0.87      0.95      0.91     42513\n",
      "weighted avg       0.99      0.98      0.98     42513\n",
      "\n"
     ]
    }
   ],
   "source": [
    "# Finding accuracy, precision, recall and confusion matrix\n",
    "from sklearn.metrics import accuracy_score, classification_report, confusion_matrix\n",
    "print(accuracy_score(y_test,y_predict_rf))\n",
    "print(classification_report(y_test,y_predict_rf))\n"
   ]
  },
  {
   "cell_type": "code",
   "execution_count": 51,
   "metadata": {
    "ExecuteTime": {
     "end_time": "2021-04-03T06:09:58.308181Z",
     "start_time": "2021-04-03T06:09:58.210661Z"
    }
   },
   "outputs": [
    {
     "data": {
      "text/plain": [
       "array([[  995,    91,    12],\n",
       "       [  213, 39653,   310],\n",
       "       [   13,    25,  1201]], dtype=int64)"
      ]
     },
     "execution_count": 51,
     "metadata": {},
     "output_type": "execute_result"
    }
   ],
   "source": [
    "confusion_matrix(y_test,y_predict_rf)"
   ]
  },
  {
   "cell_type": "code",
   "execution_count": 64,
   "metadata": {
    "ExecuteTime": {
     "end_time": "2021-04-03T06:26:58.646987Z",
     "start_time": "2021-04-03T06:26:58.633774Z"
    }
   },
   "outputs": [],
   "source": [
    "accuracy_rf = (995+39653+1201)/(42513)*100"
   ]
  },
  {
   "cell_type": "code",
   "execution_count": 53,
   "metadata": {
    "ExecuteTime": {
     "end_time": "2021-04-03T06:10:28.929738Z",
     "start_time": "2021-04-03T06:10:20.887238Z"
    }
   },
   "outputs": [
    {
     "data": {
      "text/plain": [
       "DecisionTreeClassifier()"
      ]
     },
     "execution_count": 53,
     "metadata": {},
     "output_type": "execute_result"
    }
   ],
   "source": [
    "# Training the model\n",
    "from sklearn.tree import DecisionTreeClassifier\n",
    "model_dtree=DecisionTreeClassifier()\n",
    "model_dtree.fit(X_train_smote_new,y_train_smote)"
   ]
  },
  {
   "cell_type": "code",
   "execution_count": 54,
   "metadata": {
    "ExecuteTime": {
     "end_time": "2021-04-03T06:10:49.046327Z",
     "start_time": "2021-04-03T06:10:49.011465Z"
    }
   },
   "outputs": [],
   "source": [
    "# Predicting the model\n",
    "y_predict_dtree = model_dtree.predict(X_test_new)"
   ]
  },
  {
   "cell_type": "code",
   "execution_count": 55,
   "metadata": {
    "ExecuteTime": {
     "end_time": "2021-04-03T06:11:00.662116Z",
     "start_time": "2021-04-03T06:11:00.599658Z"
    }
   },
   "outputs": [
    {
     "name": "stdout",
     "output_type": "stream",
     "text": [
      "0.9837461482370099\n",
      "              precision    recall  f1-score   support\n",
      "\n",
      "           1       0.78      0.92      0.84      1098\n",
      "           2       1.00      0.99      0.99     40176\n",
      "           3       0.80      0.96      0.87      1239\n",
      "\n",
      "    accuracy                           0.98     42513\n",
      "   macro avg       0.86      0.96      0.90     42513\n",
      "weighted avg       0.99      0.98      0.98     42513\n",
      "\n"
     ]
    }
   ],
   "source": [
    "# Finding accuracy, precision, recall and confusion matrix\n",
    "print(accuracy_score(y_test,y_predict_dtree))\n",
    "print(classification_report(y_test,y_predict_dtree))"
   ]
  },
  {
   "cell_type": "code",
   "execution_count": 56,
   "metadata": {
    "ExecuteTime": {
     "end_time": "2021-04-03T06:11:20.605541Z",
     "start_time": "2021-04-03T06:11:20.545878Z"
    }
   },
   "outputs": [
    {
     "data": {
      "text/plain": [
       "array([[ 1013,    71,    14],\n",
       "       [  273, 39617,   286],\n",
       "       [   14,    33,  1192]], dtype=int64)"
      ]
     },
     "execution_count": 56,
     "metadata": {},
     "output_type": "execute_result"
    }
   ],
   "source": [
    "confusion_matrix(y_test,y_predict_dtree )"
   ]
  },
  {
   "cell_type": "code",
   "execution_count": 91,
   "metadata": {
    "ExecuteTime": {
     "end_time": "2021-04-03T06:45:30.134904Z",
     "start_time": "2021-04-03T06:45:30.121512Z"
    }
   },
   "outputs": [],
   "source": [
    "accuracy_dtree = (1013+39617+1192)/(42513)*100"
   ]
  },
  {
   "cell_type": "code",
   "execution_count": 59,
   "metadata": {
    "ExecuteTime": {
     "end_time": "2021-04-03T06:24:25.698012Z",
     "start_time": "2021-04-03T06:24:25.678038Z"
    }
   },
   "outputs": [],
   "source": [
    "# Training the model\n",
    "from sklearn.neighbors import KNeighborsClassifier\n",
    "model_knn = KNeighborsClassifier(n_neighbors=12,metric='euclidean') # Maximum accuracy for n=10\n"
   ]
  },
  {
   "cell_type": "code",
   "execution_count": 60,
   "metadata": {
    "ExecuteTime": {
     "end_time": "2021-04-03T06:24:44.463265Z",
     "start_time": "2021-04-03T06:24:35.549435Z"
    }
   },
   "outputs": [
    {
     "data": {
      "text/plain": [
       "KNeighborsClassifier(metric='euclidean', n_neighbors=12)"
      ]
     },
     "execution_count": 60,
     "metadata": {},
     "output_type": "execute_result"
    }
   ],
   "source": [
    "model_knn.fit(X_train_smote_new,y_train_smote)"
   ]
  },
  {
   "cell_type": "code",
   "execution_count": 61,
   "metadata": {
    "ExecuteTime": {
     "end_time": "2021-04-03T06:24:58.865699Z",
     "start_time": "2021-04-03T06:24:48.085137Z"
    }
   },
   "outputs": [],
   "source": [
    "# Predicting the model\n",
    "y_predict_knn = model_knn.predict(X_test_new)"
   ]
  },
  {
   "cell_type": "code",
   "execution_count": 62,
   "metadata": {
    "ExecuteTime": {
     "end_time": "2021-04-03T06:25:00.413700Z",
     "start_time": "2021-04-03T06:25:00.331957Z"
    }
   },
   "outputs": [
    {
     "name": "stdout",
     "output_type": "stream",
     "text": [
      "0.907675299320208\n",
      "              precision    recall  f1-score   support\n",
      "\n",
      "           1       0.32      0.97      0.48      1098\n",
      "           2       1.00      0.90      0.95     40176\n",
      "           3       0.42      0.96      0.59      1239\n",
      "\n",
      "    accuracy                           0.91     42513\n",
      "   macro avg       0.58      0.94      0.67     42513\n",
      "weighted avg       0.96      0.91      0.93     42513\n",
      "\n"
     ]
    }
   ],
   "source": [
    "# Finding accuracy, precision, recall and confusion matrix\n",
    "print(accuracy_score(y_test,y_predict_knn))\n",
    "print(classification_report(y_test,y_predict_knn))"
   ]
  },
  {
   "cell_type": "code",
   "execution_count": 63,
   "metadata": {
    "ExecuteTime": {
     "end_time": "2021-04-03T06:25:10.955679Z",
     "start_time": "2021-04-03T06:25:10.896651Z"
    }
   },
   "outputs": [
    {
     "data": {
      "text/plain": [
       "array([[ 1060,    24,    14],\n",
       "       [ 2233, 36337,  1606],\n",
       "       [   22,    26,  1191]], dtype=int64)"
      ]
     },
     "execution_count": 63,
     "metadata": {},
     "output_type": "execute_result"
    }
   ],
   "source": [
    "confusion_matrix(y_test,y_predict_knn)"
   ]
  },
  {
   "cell_type": "code",
   "execution_count": 65,
   "metadata": {
    "ExecuteTime": {
     "end_time": "2021-04-03T06:27:14.083640Z",
     "start_time": "2021-04-03T06:27:14.075158Z"
    }
   },
   "outputs": [],
   "source": [
    "accuracy_knn = (1060+36337+1191)/(42513)*100"
   ]
  },
  {
   "cell_type": "code",
   "execution_count": 66,
   "metadata": {
    "ExecuteTime": {
     "end_time": "2021-04-03T06:27:33.600305Z",
     "start_time": "2021-04-03T06:27:22.573223Z"
    }
   },
   "outputs": [],
   "source": [
    "# Training the model\n",
    "from xgboost import XGBClassifier\n",
    "model_xgb = XGBClassifier()\n"
   ]
  },
  {
   "cell_type": "code",
   "execution_count": 67,
   "metadata": {
    "ExecuteTime": {
     "end_time": "2021-04-03T06:28:39.573075Z",
     "start_time": "2021-04-03T06:27:34.421642Z"
    }
   },
   "outputs": [
    {
     "name": "stderr",
     "output_type": "stream",
     "text": [
      "C:\\Users\\Anup w\\anaconda3\\lib\\site-packages\\xgboost\\sklearn.py:892: UserWarning: The use of label encoder in XGBClassifier is deprecated and will be removed in a future release. To remove this warning, do the following: 1) Pass option use_label_encoder=False when constructing XGBClassifier object; and 2) Encode your labels (y) as integers starting with 0, i.e. 0, 1, 2, ..., [num_class - 1].\n",
      "  warnings.warn(label_encoder_deprecation_msg, UserWarning)\n"
     ]
    },
    {
     "name": "stdout",
     "output_type": "stream",
     "text": [
      "[11:57:35] WARNING: C:/Users/Administrator/workspace/xgboost-win64_release_1.3.0/src/learner.cc:1061: Starting in XGBoost 1.3.0, the default evaluation metric used with the objective 'multi:softprob' was changed from 'merror' to 'mlogloss'. Explicitly set eval_metric if you'd like to restore the old behavior.\n"
     ]
    },
    {
     "data": {
      "text/plain": [
       "XGBClassifier(base_score=0.5, booster='gbtree', colsample_bylevel=1,\n",
       "              colsample_bynode=1, colsample_bytree=1, gamma=0, gpu_id=-1,\n",
       "              importance_type='gain', interaction_constraints='',\n",
       "              learning_rate=0.300000012, max_delta_step=0, max_depth=6,\n",
       "              min_child_weight=1, missing=nan, monotone_constraints='()',\n",
       "              n_estimators=100, n_jobs=8, num_parallel_tree=1,\n",
       "              objective='multi:softprob', random_state=0, reg_alpha=0,\n",
       "              reg_lambda=1, scale_pos_weight=None, subsample=1,\n",
       "              tree_method='exact', validate_parameters=1, verbosity=None)"
      ]
     },
     "execution_count": 67,
     "metadata": {},
     "output_type": "execute_result"
    }
   ],
   "source": [
    "model_xgb.fit(X_train_smote_new,y_train_smote)"
   ]
  },
  {
   "cell_type": "code",
   "execution_count": 68,
   "metadata": {
    "ExecuteTime": {
     "end_time": "2021-04-03T06:28:43.544013Z",
     "start_time": "2021-04-03T06:28:43.430397Z"
    }
   },
   "outputs": [],
   "source": [
    "# Predicting the model\n",
    "y_predict_xgb = model_xgb.predict(X_test_new)"
   ]
  },
  {
   "cell_type": "code",
   "execution_count": 69,
   "metadata": {
    "ExecuteTime": {
     "end_time": "2021-04-03T06:28:49.519530Z",
     "start_time": "2021-04-03T06:28:49.443706Z"
    }
   },
   "outputs": [
    {
     "name": "stdout",
     "output_type": "stream",
     "text": [
      "0.9573542210617929\n",
      "              precision    recall  f1-score   support\n",
      "\n",
      "           1       0.57      0.85      0.68      1098\n",
      "           2       0.99      0.96      0.98     40176\n",
      "           3       0.56      0.91      0.70      1239\n",
      "\n",
      "    accuracy                           0.96     42513\n",
      "   macro avg       0.71      0.91      0.79     42513\n",
      "weighted avg       0.97      0.96      0.96     42513\n",
      "\n"
     ]
    }
   ],
   "source": [
    "# Finding accuracy, precision, recall and confusion matrix\n",
    "print(accuracy_score(y_test,y_predict_xgb))\n",
    "print(classification_report(y_test,y_predict_xgb))"
   ]
  },
  {
   "cell_type": "code",
   "execution_count": 70,
   "metadata": {
    "ExecuteTime": {
     "end_time": "2021-04-03T06:29:00.513343Z",
     "start_time": "2021-04-03T06:29:00.458767Z"
    }
   },
   "outputs": [
    {
     "data": {
      "text/plain": [
       "array([[  936,   149,    13],\n",
       "       [  680, 38633,   863],\n",
       "       [   19,    89,  1131]], dtype=int64)"
      ]
     },
     "execution_count": 70,
     "metadata": {},
     "output_type": "execute_result"
    }
   ],
   "source": [
    "confusion_matrix(y_test,y_predict_xgb)"
   ]
  },
  {
   "cell_type": "code",
   "execution_count": 71,
   "metadata": {
    "ExecuteTime": {
     "end_time": "2021-04-03T06:29:27.878707Z",
     "start_time": "2021-04-03T06:29:27.870566Z"
    }
   },
   "outputs": [],
   "source": [
    "accuracy_XGB= (936+38633+1131)/(42513)*100"
   ]
  },
  {
   "cell_type": "code",
   "execution_count": 72,
   "metadata": {
    "ExecuteTime": {
     "end_time": "2021-04-03T06:29:40.386938Z",
     "start_time": "2021-04-03T06:29:40.206553Z"
    }
   },
   "outputs": [],
   "source": [
    "# Training the model\n",
    "from sklearn.neural_network import MLPClassifier\n",
    "model_mlp = MLPClassifier()"
   ]
  },
  {
   "cell_type": "code",
   "execution_count": 73,
   "metadata": {
    "ExecuteTime": {
     "end_time": "2021-04-03T06:40:52.399090Z",
     "start_time": "2021-04-03T06:29:49.761346Z"
    }
   },
   "outputs": [
    {
     "name": "stderr",
     "output_type": "stream",
     "text": [
      "C:\\Users\\Anup w\\anaconda3\\lib\\site-packages\\sklearn\\neural_network\\_multilayer_perceptron.py:614: ConvergenceWarning: Stochastic Optimizer: Maximum iterations (200) reached and the optimization hasn't converged yet.\n",
      "  warnings.warn(\n"
     ]
    },
    {
     "data": {
      "text/plain": [
       "MLPClassifier()"
      ]
     },
     "execution_count": 73,
     "metadata": {},
     "output_type": "execute_result"
    }
   ],
   "source": [
    "model_mlp.fit(X_train_smote_new,y_train_smote)"
   ]
  },
  {
   "cell_type": "code",
   "execution_count": 74,
   "metadata": {
    "ExecuteTime": {
     "end_time": "2021-04-03T06:41:31.994046Z",
     "start_time": "2021-04-03T06:41:31.797545Z"
    }
   },
   "outputs": [],
   "source": [
    "# Predicting the model\n",
    "y_predict_mlp = model_mlp.predict(X_test_new)"
   ]
  },
  {
   "cell_type": "code",
   "execution_count": 75,
   "metadata": {
    "ExecuteTime": {
     "end_time": "2021-04-03T06:41:48.213020Z",
     "start_time": "2021-04-03T06:41:48.144904Z"
    }
   },
   "outputs": [
    {
     "name": "stdout",
     "output_type": "stream",
     "text": [
      "0.6698656881424505\n",
      "              precision    recall  f1-score   support\n",
      "\n",
      "           1       0.08      0.76      0.15      1098\n",
      "           2       0.99      0.66      0.79     40176\n",
      "           3       0.18      0.80      0.29      1239\n",
      "\n",
      "    accuracy                           0.67     42513\n",
      "   macro avg       0.42      0.74      0.41     42513\n",
      "weighted avg       0.94      0.67      0.76     42513\n",
      "\n"
     ]
    }
   ],
   "source": [
    "# Finding accuracy, precision, recall and confusion matrix\n",
    "print(accuracy_score(y_test,y_predict_mlp))\n",
    "print(classification_report(y_test,y_predict_mlp))"
   ]
  },
  {
   "cell_type": "code",
   "execution_count": 76,
   "metadata": {
    "ExecuteTime": {
     "end_time": "2021-04-03T06:41:57.324352Z",
     "start_time": "2021-04-03T06:41:57.267783Z"
    }
   },
   "outputs": [
    {
     "data": {
      "text/plain": [
       "array([[  835,   201,    62],\n",
       "       [ 8910, 26646,  4620],\n",
       "       [   91,   151,   997]], dtype=int64)"
      ]
     },
     "execution_count": 76,
     "metadata": {},
     "output_type": "execute_result"
    }
   ],
   "source": [
    "confusion_matrix(y_test,y_predict_mlp)"
   ]
  },
  {
   "cell_type": "code",
   "execution_count": 77,
   "metadata": {
    "ExecuteTime": {
     "end_time": "2021-04-03T06:42:22.303953Z",
     "start_time": "2021-04-03T06:42:22.291929Z"
    }
   },
   "outputs": [],
   "source": [
    "accuracy_mlp = (835+26646+9987)/(42513)*100"
   ]
  },
  {
   "cell_type": "code",
   "execution_count": 78,
   "metadata": {
    "ExecuteTime": {
     "end_time": "2021-04-03T06:42:30.393366Z",
     "start_time": "2021-04-03T06:42:30.373548Z"
    }
   },
   "outputs": [],
   "source": [
    "from sklearn.naive_bayes import GaussianNB\n",
    "from sklearn.naive_bayes import MultinomialNB"
   ]
  },
  {
   "cell_type": "code",
   "execution_count": 79,
   "metadata": {
    "ExecuteTime": {
     "end_time": "2021-04-03T06:42:37.286108Z",
     "start_time": "2021-04-03T06:42:37.271623Z"
    }
   },
   "outputs": [],
   "source": [
    "sgnb = GaussianNB()\n",
    "smnb = MultinomialNB()"
   ]
  },
  {
   "cell_type": "code",
   "execution_count": 80,
   "metadata": {
    "ExecuteTime": {
     "end_time": "2021-04-03T06:42:46.392011Z",
     "start_time": "2021-04-03T06:42:46.251125Z"
    }
   },
   "outputs": [],
   "source": [
    "spred_gnb = sgnb.fit(X_train_smote_new,y_train_smote)"
   ]
  },
  {
   "cell_type": "code",
   "execution_count": 81,
   "metadata": {
    "ExecuteTime": {
     "end_time": "2021-04-03T06:42:55.554131Z",
     "start_time": "2021-04-03T06:42:55.510058Z"
    }
   },
   "outputs": [],
   "source": [
    "# Predicting the model\n",
    "y_predict_sgnb = spred_gnb.predict(X_test_new)"
   ]
  },
  {
   "cell_type": "code",
   "execution_count": 82,
   "metadata": {
    "ExecuteTime": {
     "end_time": "2021-04-03T06:43:03.315434Z",
     "start_time": "2021-04-03T06:43:03.222015Z"
    }
   },
   "outputs": [
    {
     "name": "stdout",
     "output_type": "stream",
     "text": [
      "0.49403711805800576\n",
      "              precision    recall  f1-score   support\n",
      "\n",
      "           1       0.04      0.41      0.07      1098\n",
      "           2       0.96      0.50      0.66     40176\n",
      "           3       0.05      0.41      0.09      1239\n",
      "\n",
      "    accuracy                           0.49     42513\n",
      "   macro avg       0.35      0.44      0.27     42513\n",
      "weighted avg       0.91      0.49      0.62     42513\n",
      "\n"
     ]
    }
   ],
   "source": [
    "# Finding accuracy, precision, recall and confusion matrix\n",
    "print(accuracy_score(y_test,y_predict_sgnb))\n",
    "print(classification_report(y_test,y_predict_sgnb))"
   ]
  },
  {
   "cell_type": "code",
   "execution_count": 83,
   "metadata": {
    "ExecuteTime": {
     "end_time": "2021-04-03T06:43:11.860240Z",
     "start_time": "2021-04-03T06:43:11.814246Z"
    }
   },
   "outputs": [
    {
     "data": {
      "text/plain": [
       "array([[  451,   409,   238],\n",
       "       [11209, 20045,  8922],\n",
       "       [  292,   440,   507]], dtype=int64)"
      ]
     },
     "execution_count": 83,
     "metadata": {},
     "output_type": "execute_result"
    }
   ],
   "source": [
    "confusion_matrix(y_test,y_predict_sgnb )"
   ]
  },
  {
   "cell_type": "code",
   "execution_count": 84,
   "metadata": {
    "ExecuteTime": {
     "end_time": "2021-04-03T06:43:30.588605Z",
     "start_time": "2021-04-03T06:43:30.561629Z"
    }
   },
   "outputs": [],
   "source": [
    "accuracy_gnb = (451+20045+507)/(42513)*100"
   ]
  },
  {
   "cell_type": "code",
   "execution_count": 85,
   "metadata": {
    "ExecuteTime": {
     "end_time": "2021-04-03T06:43:39.239961Z",
     "start_time": "2021-04-03T06:43:39.149282Z"
    }
   },
   "outputs": [],
   "source": [
    "spred_mnb = smnb.fit(X_train_smote_new,y_train_smote)"
   ]
  },
  {
   "cell_type": "code",
   "execution_count": 86,
   "metadata": {
    "ExecuteTime": {
     "end_time": "2021-04-03T06:43:46.553710Z",
     "start_time": "2021-04-03T06:43:46.534777Z"
    }
   },
   "outputs": [],
   "source": [
    "# Predicting the model\n",
    "y_predict_smnb = spred_mnb.predict(X_test_new)"
   ]
  },
  {
   "cell_type": "code",
   "execution_count": 87,
   "metadata": {
    "ExecuteTime": {
     "end_time": "2021-04-03T06:43:53.329496Z",
     "start_time": "2021-04-03T06:43:53.230019Z"
    }
   },
   "outputs": [
    {
     "name": "stdout",
     "output_type": "stream",
     "text": [
      "0.49714205066685485\n",
      "              precision    recall  f1-score   support\n",
      "\n",
      "           1       0.04      0.14      0.06      1098\n",
      "           2       0.96      0.50      0.66     40176\n",
      "           3       0.04      0.58      0.08      1239\n",
      "\n",
      "    accuracy                           0.50     42513\n",
      "   macro avg       0.35      0.41      0.27     42513\n",
      "weighted avg       0.91      0.50      0.63     42513\n",
      "\n"
     ]
    }
   ],
   "source": [
    "# Finding accuracy, precision, recall and confusion matrix\n",
    "print(accuracy_score(y_test,y_predict_smnb))\n",
    "print(classification_report(y_test,y_predict_smnb))"
   ]
  },
  {
   "cell_type": "code",
   "execution_count": 88,
   "metadata": {
    "ExecuteTime": {
     "end_time": "2021-04-03T06:44:07.029183Z",
     "start_time": "2021-04-03T06:44:06.979222Z"
    }
   },
   "outputs": [
    {
     "data": {
      "text/plain": [
       "array([[  152,   454,   492],\n",
       "       [ 3876, 20259, 16041],\n",
       "       [  132,   383,   724]], dtype=int64)"
      ]
     },
     "execution_count": 88,
     "metadata": {},
     "output_type": "execute_result"
    }
   ],
   "source": [
    "confusion_matrix(y_test,y_predict_smnb)"
   ]
  },
  {
   "cell_type": "code",
   "execution_count": 89,
   "metadata": {
    "ExecuteTime": {
     "end_time": "2021-04-03T06:44:26.967040Z",
     "start_time": "2021-04-03T06:44:26.949968Z"
    }
   },
   "outputs": [],
   "source": [
    "accuracy_mnb =(152+20259+724)/(42513)*100"
   ]
  },
  {
   "cell_type": "code",
   "execution_count": 92,
   "metadata": {
    "ExecuteTime": {
     "end_time": "2021-04-03T06:45:34.549202Z",
     "start_time": "2021-04-03T06:45:34.534992Z"
    }
   },
   "outputs": [
    {
     "data": {
      "text/html": [
       "<div>\n",
       "<style scoped>\n",
       "    .dataframe tbody tr th:only-of-type {\n",
       "        vertical-align: middle;\n",
       "    }\n",
       "\n",
       "    .dataframe tbody tr th {\n",
       "        vertical-align: top;\n",
       "    }\n",
       "\n",
       "    .dataframe thead th {\n",
       "        text-align: right;\n",
       "    }\n",
       "</style>\n",
       "<table border=\"1\" class=\"dataframe\">\n",
       "  <thead>\n",
       "    <tr style=\"text-align: right;\">\n",
       "      <th></th>\n",
       "      <th>MODEL</th>\n",
       "      <th>Accuracy</th>\n",
       "    </tr>\n",
       "  </thead>\n",
       "  <tbody>\n",
       "    <tr>\n",
       "      <th>0</th>\n",
       "      <td>model_rf</td>\n",
       "      <td>98.438125</td>\n",
       "    </tr>\n",
       "    <tr>\n",
       "      <th>1</th>\n",
       "      <td>model_dtree</td>\n",
       "      <td>98.374615</td>\n",
       "    </tr>\n",
       "    <tr>\n",
       "      <th>2</th>\n",
       "      <td>model_knn</td>\n",
       "      <td>90.767530</td>\n",
       "    </tr>\n",
       "    <tr>\n",
       "      <th>3</th>\n",
       "      <td>model_xgb</td>\n",
       "      <td>95.735422</td>\n",
       "    </tr>\n",
       "    <tr>\n",
       "      <th>4</th>\n",
       "      <td>model_mlp</td>\n",
       "      <td>88.133042</td>\n",
       "    </tr>\n",
       "    <tr>\n",
       "      <th>5</th>\n",
       "      <td>spred_gnb</td>\n",
       "      <td>49.403712</td>\n",
       "    </tr>\n",
       "    <tr>\n",
       "      <th>6</th>\n",
       "      <td>spred_mnb</td>\n",
       "      <td>49.714205</td>\n",
       "    </tr>\n",
       "  </tbody>\n",
       "</table>\n",
       "</div>"
      ],
      "text/plain": [
       "         MODEL   Accuracy\n",
       "0     model_rf  98.438125\n",
       "1  model_dtree  98.374615\n",
       "2    model_knn  90.767530\n",
       "3    model_xgb  95.735422\n",
       "4    model_mlp  88.133042\n",
       "5   spred_gnb   49.403712\n",
       "6    spred_mnb  49.714205"
      ]
     },
     "execution_count": 92,
     "metadata": {},
     "output_type": "execute_result"
    }
   ],
   "source": [
    "data = {\"MODEL\":pd.Series([\"model_rf\",\"model_dtree\",\"model_knn\",\"model_xgb\",\"model_mlp\",\"spred_gnb \",\"spred_mnb\"]),\n",
    "        \"Accuracy\":pd.Series([accuracy_rf,accuracy_dtree,accuracy_knn,accuracy_XGB,accuracy_mlp,accuracy_gnb,accuracy_mnb])}\n",
    "table=pd.DataFrame(data)\n",
    "table "
   ]
  },
  {
   "cell_type": "code",
   "execution_count": null,
   "metadata": {},
   "outputs": [],
   "source": []
  }
 ],
 "metadata": {
  "kernelspec": {
   "display_name": "Python 3",
   "language": "python",
   "name": "python3"
  },
  "language_info": {
   "codemirror_mode": {
    "name": "ipython",
    "version": 3
   },
   "file_extension": ".py",
   "mimetype": "text/x-python",
   "name": "python",
   "nbconvert_exporter": "python",
   "pygments_lexer": "ipython3",
   "version": "3.8.3"
  },
  "varInspector": {
   "cols": {
    "lenName": 16,
    "lenType": 16,
    "lenVar": 40
   },
   "kernels_config": {
    "python": {
     "delete_cmd_postfix": "",
     "delete_cmd_prefix": "del ",
     "library": "var_list.py",
     "varRefreshCmd": "print(var_dic_list())"
    },
    "r": {
     "delete_cmd_postfix": ") ",
     "delete_cmd_prefix": "rm(",
     "library": "var_list.r",
     "varRefreshCmd": "cat(var_dic_list()) "
    }
   },
   "types_to_exclude": [
    "module",
    "function",
    "builtin_function_or_method",
    "instance",
    "_Feature"
   ],
   "window_display": false
  }
 },
 "nbformat": 4,
 "nbformat_minor": 4
}
